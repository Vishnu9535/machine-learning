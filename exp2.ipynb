{
 "cells": [
  {
   "cell_type": "code",
   "execution_count": 25,
   "metadata": {},
   "outputs": [
    {
     "data": {
      "text/plain": [
       "Index(['Date', 'Total Transactions', 'Merchant', 'Aggregator', 'Bank',\n",
       "       'Transaction Status'],\n",
       "      dtype='object')"
      ]
     },
     "execution_count": 25,
     "metadata": {},
     "output_type": "execute_result"
    }
   ],
   "source": [
    "import pandas as pd\n",
    "df = pd.read_excel(r'C:\\Users\\vishn\\OneDrive\\Documents\\meachine-learning\\datajuspay.xlsx')\n",
    "df.columns\n"
   ]
  },
  {
   "cell_type": "code",
   "execution_count": null,
   "metadata": {},
   "outputs": [],
   "source": []
  },
  {
   "cell_type": "code",
   "execution_count": 28,
   "metadata": {},
   "outputs": [
    {
     "name": "stdout",
     "output_type": "stream",
     "text": [
      "          Date  Total Transactions    Merchant Aggregator    Bank  \\\n",
      "0    4/14/2016                  21  Merchant 1       Agg2  Bank 2   \n",
      "1    4/14/2016                   9  Merchant 2       Agg2  Bank 2   \n",
      "2    4/14/2016                   3  Merchant 2       Agg2  Bank 1   \n",
      "3    4/14/2016                   7  Merchant 2       None  Bank 1   \n",
      "4    4/14/2016                 680  Merchant 1       Agg2  Bank 1   \n",
      "..         ...                 ...         ...        ...     ...   \n",
      "746  4/28/2016                1912  Merchant 1       Agg4  Bank 2   \n",
      "747  4/28/2016                2343  Merchant 1       Agg2  Bank 1   \n",
      "748  4/28/2016                  85  Merchant 1       Agg2  Bank 2   \n",
      "749  4/28/2016                 481  Merchant 1       Agg4  Bank 3   \n",
      "750  4/28/2016                  22  Merchant 1       Agg2  Bank 3   \n",
      "\n",
      "    Transaction Status  \n",
      "0                 None  \n",
      "1                 None  \n",
      "2              SUCCESS  \n",
      "3              SUCCESS  \n",
      "4                 None  \n",
      "..                 ...  \n",
      "746            SUCCESS  \n",
      "747            SUCCESS  \n",
      "748            SUCCESS  \n",
      "749            SUCCESS  \n",
      "750            SUCCESS  \n",
      "\n",
      "[751 rows x 6 columns]\n"
     ]
    }
   ],
   "source": [
    "import sqlite3\n",
    "\n",
    "conn = sqlite3.connect('datajuspay.db')\n",
    "\n",
    "df.to_sql('df', conn, index=False, if_exists='replace')\n",
    "\n",
    "query = \"SELECT * FROM df\"\n",
    "result_df = pd.read_sql(query, conn)\n",
    "\n",
    "conn.close()\n",
    "print(result_df)\n",
    "\n"
   ]
  },
  {
   "cell_type": "code",
   "execution_count": 4,
   "metadata": {},
   "outputs": [
    {
     "data": {
      "text/html": [
       "<div>\n",
       "<style scoped>\n",
       "    .dataframe tbody tr th:only-of-type {\n",
       "        vertical-align: middle;\n",
       "    }\n",
       "\n",
       "    .dataframe tbody tr th {\n",
       "        vertical-align: top;\n",
       "    }\n",
       "\n",
       "    .dataframe thead th {\n",
       "        text-align: right;\n",
       "    }\n",
       "</style>\n",
       "<table border=\"1\" class=\"dataframe\">\n",
       "  <thead>\n",
       "    <tr style=\"text-align: right;\">\n",
       "      <th></th>\n",
       "      <th>Date</th>\n",
       "      <th>Total Transactions</th>\n",
       "      <th>Merchant</th>\n",
       "      <th>Aggregator</th>\n",
       "      <th>Bank</th>\n",
       "      <th>Transaction Status</th>\n",
       "    </tr>\n",
       "  </thead>\n",
       "  <tbody>\n",
       "    <tr>\n",
       "      <th>0</th>\n",
       "      <td>4/14/2016</td>\n",
       "      <td>21</td>\n",
       "      <td>Merchant 1</td>\n",
       "      <td>Agg2</td>\n",
       "      <td>Bank 2</td>\n",
       "      <td>NaN</td>\n",
       "    </tr>\n",
       "    <tr>\n",
       "      <th>1</th>\n",
       "      <td>4/14/2016</td>\n",
       "      <td>9</td>\n",
       "      <td>Merchant 2</td>\n",
       "      <td>Agg2</td>\n",
       "      <td>Bank 2</td>\n",
       "      <td>NaN</td>\n",
       "    </tr>\n",
       "    <tr>\n",
       "      <th>2</th>\n",
       "      <td>4/14/2016</td>\n",
       "      <td>3</td>\n",
       "      <td>Merchant 2</td>\n",
       "      <td>Agg2</td>\n",
       "      <td>Bank 1</td>\n",
       "      <td>SUCCESS</td>\n",
       "    </tr>\n",
       "    <tr>\n",
       "      <th>3</th>\n",
       "      <td>4/14/2016</td>\n",
       "      <td>7</td>\n",
       "      <td>Merchant 2</td>\n",
       "      <td>NaN</td>\n",
       "      <td>Bank 1</td>\n",
       "      <td>SUCCESS</td>\n",
       "    </tr>\n",
       "    <tr>\n",
       "      <th>4</th>\n",
       "      <td>4/14/2016</td>\n",
       "      <td>680</td>\n",
       "      <td>Merchant 1</td>\n",
       "      <td>Agg2</td>\n",
       "      <td>Bank 1</td>\n",
       "      <td>NaN</td>\n",
       "    </tr>\n",
       "    <tr>\n",
       "      <th>...</th>\n",
       "      <td>...</td>\n",
       "      <td>...</td>\n",
       "      <td>...</td>\n",
       "      <td>...</td>\n",
       "      <td>...</td>\n",
       "      <td>...</td>\n",
       "    </tr>\n",
       "    <tr>\n",
       "      <th>746</th>\n",
       "      <td>4/28/2016</td>\n",
       "      <td>1912</td>\n",
       "      <td>Merchant 1</td>\n",
       "      <td>Agg4</td>\n",
       "      <td>Bank 2</td>\n",
       "      <td>SUCCESS</td>\n",
       "    </tr>\n",
       "    <tr>\n",
       "      <th>747</th>\n",
       "      <td>4/28/2016</td>\n",
       "      <td>2343</td>\n",
       "      <td>Merchant 1</td>\n",
       "      <td>Agg2</td>\n",
       "      <td>Bank 1</td>\n",
       "      <td>SUCCESS</td>\n",
       "    </tr>\n",
       "    <tr>\n",
       "      <th>748</th>\n",
       "      <td>4/28/2016</td>\n",
       "      <td>85</td>\n",
       "      <td>Merchant 1</td>\n",
       "      <td>Agg2</td>\n",
       "      <td>Bank 2</td>\n",
       "      <td>SUCCESS</td>\n",
       "    </tr>\n",
       "    <tr>\n",
       "      <th>749</th>\n",
       "      <td>4/28/2016</td>\n",
       "      <td>481</td>\n",
       "      <td>Merchant 1</td>\n",
       "      <td>Agg4</td>\n",
       "      <td>Bank 3</td>\n",
       "      <td>SUCCESS</td>\n",
       "    </tr>\n",
       "    <tr>\n",
       "      <th>750</th>\n",
       "      <td>4/28/2016</td>\n",
       "      <td>22</td>\n",
       "      <td>Merchant 1</td>\n",
       "      <td>Agg2</td>\n",
       "      <td>Bank 3</td>\n",
       "      <td>SUCCESS</td>\n",
       "    </tr>\n",
       "  </tbody>\n",
       "</table>\n",
       "<p>751 rows × 6 columns</p>\n",
       "</div>"
      ],
      "text/plain": [
       "          Date  Total Transactions    Merchant Aggregator    Bank  \\\n",
       "0    4/14/2016                  21  Merchant 1       Agg2  Bank 2   \n",
       "1    4/14/2016                   9  Merchant 2       Agg2  Bank 2   \n",
       "2    4/14/2016                   3  Merchant 2       Agg2  Bank 1   \n",
       "3    4/14/2016                   7  Merchant 2        NaN  Bank 1   \n",
       "4    4/14/2016                 680  Merchant 1       Agg2  Bank 1   \n",
       "..         ...                 ...         ...        ...     ...   \n",
       "746  4/28/2016                1912  Merchant 1       Agg4  Bank 2   \n",
       "747  4/28/2016                2343  Merchant 1       Agg2  Bank 1   \n",
       "748  4/28/2016                  85  Merchant 1       Agg2  Bank 2   \n",
       "749  4/28/2016                 481  Merchant 1       Agg4  Bank 3   \n",
       "750  4/28/2016                  22  Merchant 1       Agg2  Bank 3   \n",
       "\n",
       "    Transaction Status  \n",
       "0                  NaN  \n",
       "1                  NaN  \n",
       "2              SUCCESS  \n",
       "3              SUCCESS  \n",
       "4                  NaN  \n",
       "..                 ...  \n",
       "746            SUCCESS  \n",
       "747            SUCCESS  \n",
       "748            SUCCESS  \n",
       "749            SUCCESS  \n",
       "750            SUCCESS  \n",
       "\n",
       "[751 rows x 6 columns]"
      ]
     },
     "execution_count": 4,
     "metadata": {},
     "output_type": "execute_result"
    }
   ],
   "source": [
    "df"
   ]
  },
  {
   "cell_type": "code",
   "execution_count": 78,
   "metadata": {},
   "outputs": [
    {
     "name": "stdout",
     "output_type": "stream",
     "text": [
      "Percentage of transactions without a transaction status: 0.0 %\n"
     ]
    }
   ],
   "source": [
    "\n",
    "\n",
    "# Count the number of transactions without a transaction status\n",
    "transactions_without_status = df['Transaction Status'].isnull().sum()\n",
    "\n",
    "# Calculate the total number of transactions\n",
    "total_transactions = len(df)\n",
    "\n",
    "# Calculate the percentage of transactions without a transaction status\n",
    "percentage = (transactions_without_status / total_transactions) * 100\n",
    "\n",
    "print(\"Percentage of transactions without a transaction status:\", percentage, \"%\")"
   ]
  },
  {
   "cell_type": "code",
   "execution_count": 56,
   "metadata": {},
   "outputs": [
    {
     "name": "stdout",
     "output_type": "stream",
     "text": [
      "Percentage of transactions without a Transaction Status: 34.62%\n"
     ]
    }
   ],
   "source": [
    "null_status_count = df['Transaction Status'].isnull().sum()\n",
    "\n",
    "# Total number of transactions\n",
    "total_transactions = len(df)\n",
    "\n",
    "# Calculating the percentage of transactions without a Transaction Status\n",
    "percentage_null_status = (null_status_count / total_transactions) * 100\n",
    "\n",
    "print(f\"Percentage of transactions without a Transaction Status: {percentage_null_status:.2f}%\")"
   ]
  },
  {
   "cell_type": "code",
   "execution_count": 57,
   "metadata": {},
   "outputs": [
    {
     "name": "stdout",
     "output_type": "stream",
     "text": [
      "More than 15,000 transactions are processed without an aggregator: True\n"
     ]
    }
   ],
   "source": [
    "transactions_without_aggregator = df[df['Aggregator'].isnull()]\n",
    "\n",
    "# Total number of transactions without an aggregator\n",
    "total_transactions_without_aggregator = transactions_without_aggregator['Total Transactions'].sum()\n",
    "\n",
    "# Checking if the total number of transactions without an aggregator is more than 15,000\n",
    "result = total_transactions_without_aggregator > 15000\n",
    "\n",
    "print(\"More than 15,000 transactions are processed without an aggregator:\", result)"
   ]
  },
  {
   "cell_type": "code",
   "execution_count": 13,
   "metadata": {},
   "outputs": [
    {
     "name": "stdout",
     "output_type": "stream",
     "text": [
      "  Aggregator  Success Count  Total Transactions  Success Rate\n",
      "0       Agg1             23                  53      0.433962\n",
      "4       Agg5             15                  37      0.405405\n",
      "2       Agg3             42                 123      0.341463\n",
      "3       Agg4             30                  88      0.340909\n",
      "1       Agg2             87                 258      0.337209\n"
     ]
    }
   ],
   "source": [
    "# success_transactions = df[df['Transaction Status'] == 'SUCCESS']\n",
    "\n",
    "# # Group the data by the 'Aggregator' column and count successful transactions\n",
    "# success_counts = success_transactions.groupby('Aggregator').size().reset_index(name='Success Count')\n",
    "\n",
    "# # Calculate total transactions for each aggregator\n",
    "# total_transactions = df.groupby('Aggregator').size().reset_index(name='Total Transactions')\n",
    "\n",
    "# # Merge success counts and total transactions\n",
    "# agg_success_rate = pd.merge(success_counts, total_transactions, on='Aggregator', how='left')\n",
    "\n",
    "# # Calculate success rate\n",
    "# agg_success_rate['Success Rate'] = agg_success_rate['Success Count'] / agg_success_rate['Total Transactions']\n",
    "\n",
    "# # Sort aggregators based on their success rates\n",
    "# sorted_agg_success_rate = agg_success_rate.sort_values(by='Success Rate', ascending=False)\n",
    "\n",
    "# print(sorted_agg_success_rate)"
   ]
  },
  {
   "cell_type": "code",
   "execution_count": 33,
   "metadata": {},
   "outputs": [
    {
     "data": {
      "text/html": [
       "<div>\n",
       "<style scoped>\n",
       "    .dataframe tbody tr th:only-of-type {\n",
       "        vertical-align: middle;\n",
       "    }\n",
       "\n",
       "    .dataframe tbody tr th {\n",
       "        vertical-align: top;\n",
       "    }\n",
       "\n",
       "    .dataframe thead th {\n",
       "        text-align: right;\n",
       "    }\n",
       "</style>\n",
       "<table border=\"1\" class=\"dataframe\">\n",
       "  <thead>\n",
       "    <tr style=\"text-align: right;\">\n",
       "      <th></th>\n",
       "      <th>Date</th>\n",
       "      <th>Total Transactions</th>\n",
       "      <th>Merchant</th>\n",
       "      <th>Aggregator</th>\n",
       "      <th>Bank</th>\n",
       "      <th>Transaction Status</th>\n",
       "    </tr>\n",
       "  </thead>\n",
       "  <tbody>\n",
       "    <tr>\n",
       "      <th>0</th>\n",
       "      <td>2016-04-14</td>\n",
       "      <td>21</td>\n",
       "      <td>Merchant 1</td>\n",
       "      <td>Agg2</td>\n",
       "      <td>Bank 2</td>\n",
       "      <td>NaN</td>\n",
       "    </tr>\n",
       "    <tr>\n",
       "      <th>1</th>\n",
       "      <td>2016-04-14</td>\n",
       "      <td>9</td>\n",
       "      <td>Merchant 2</td>\n",
       "      <td>Agg2</td>\n",
       "      <td>Bank 2</td>\n",
       "      <td>NaN</td>\n",
       "    </tr>\n",
       "    <tr>\n",
       "      <th>2</th>\n",
       "      <td>2016-04-14</td>\n",
       "      <td>3</td>\n",
       "      <td>Merchant 2</td>\n",
       "      <td>Agg2</td>\n",
       "      <td>Bank 1</td>\n",
       "      <td>SUCCESS</td>\n",
       "    </tr>\n",
       "    <tr>\n",
       "      <th>3</th>\n",
       "      <td>2016-04-14</td>\n",
       "      <td>7</td>\n",
       "      <td>Merchant 2</td>\n",
       "      <td>NaN</td>\n",
       "      <td>Bank 1</td>\n",
       "      <td>SUCCESS</td>\n",
       "    </tr>\n",
       "    <tr>\n",
       "      <th>4</th>\n",
       "      <td>2016-04-14</td>\n",
       "      <td>680</td>\n",
       "      <td>Merchant 1</td>\n",
       "      <td>Agg2</td>\n",
       "      <td>Bank 1</td>\n",
       "      <td>NaN</td>\n",
       "    </tr>\n",
       "    <tr>\n",
       "      <th>...</th>\n",
       "      <td>...</td>\n",
       "      <td>...</td>\n",
       "      <td>...</td>\n",
       "      <td>...</td>\n",
       "      <td>...</td>\n",
       "      <td>...</td>\n",
       "    </tr>\n",
       "    <tr>\n",
       "      <th>746</th>\n",
       "      <td>2016-04-28</td>\n",
       "      <td>1912</td>\n",
       "      <td>Merchant 1</td>\n",
       "      <td>Agg4</td>\n",
       "      <td>Bank 2</td>\n",
       "      <td>SUCCESS</td>\n",
       "    </tr>\n",
       "    <tr>\n",
       "      <th>747</th>\n",
       "      <td>2016-04-28</td>\n",
       "      <td>2343</td>\n",
       "      <td>Merchant 1</td>\n",
       "      <td>Agg2</td>\n",
       "      <td>Bank 1</td>\n",
       "      <td>SUCCESS</td>\n",
       "    </tr>\n",
       "    <tr>\n",
       "      <th>748</th>\n",
       "      <td>2016-04-28</td>\n",
       "      <td>85</td>\n",
       "      <td>Merchant 1</td>\n",
       "      <td>Agg2</td>\n",
       "      <td>Bank 2</td>\n",
       "      <td>SUCCESS</td>\n",
       "    </tr>\n",
       "    <tr>\n",
       "      <th>749</th>\n",
       "      <td>2016-04-28</td>\n",
       "      <td>481</td>\n",
       "      <td>Merchant 1</td>\n",
       "      <td>Agg4</td>\n",
       "      <td>Bank 3</td>\n",
       "      <td>SUCCESS</td>\n",
       "    </tr>\n",
       "    <tr>\n",
       "      <th>750</th>\n",
       "      <td>2016-04-28</td>\n",
       "      <td>22</td>\n",
       "      <td>Merchant 1</td>\n",
       "      <td>Agg2</td>\n",
       "      <td>Bank 3</td>\n",
       "      <td>SUCCESS</td>\n",
       "    </tr>\n",
       "  </tbody>\n",
       "</table>\n",
       "<p>751 rows × 6 columns</p>\n",
       "</div>"
      ],
      "text/plain": [
       "          Date  Total Transactions    Merchant Aggregator    Bank  \\\n",
       "0   2016-04-14                  21  Merchant 1       Agg2  Bank 2   \n",
       "1   2016-04-14                   9  Merchant 2       Agg2  Bank 2   \n",
       "2   2016-04-14                   3  Merchant 2       Agg2  Bank 1   \n",
       "3   2016-04-14                   7  Merchant 2        NaN  Bank 1   \n",
       "4   2016-04-14                 680  Merchant 1       Agg2  Bank 1   \n",
       "..         ...                 ...         ...        ...     ...   \n",
       "746 2016-04-28                1912  Merchant 1       Agg4  Bank 2   \n",
       "747 2016-04-28                2343  Merchant 1       Agg2  Bank 1   \n",
       "748 2016-04-28                  85  Merchant 1       Agg2  Bank 2   \n",
       "749 2016-04-28                 481  Merchant 1       Agg4  Bank 3   \n",
       "750 2016-04-28                  22  Merchant 1       Agg2  Bank 3   \n",
       "\n",
       "    Transaction Status  \n",
       "0                  NaN  \n",
       "1                  NaN  \n",
       "2              SUCCESS  \n",
       "3              SUCCESS  \n",
       "4                  NaN  \n",
       "..                 ...  \n",
       "746            SUCCESS  \n",
       "747            SUCCESS  \n",
       "748            SUCCESS  \n",
       "749            SUCCESS  \n",
       "750            SUCCESS  \n",
       "\n",
       "[751 rows x 6 columns]"
      ]
     },
     "execution_count": 33,
     "metadata": {},
     "output_type": "execute_result"
    }
   ],
   "source": [
    "df['Date'] = pd.to_datetime(df['Date'])\n",
    "df"
   ]
  },
  {
   "cell_type": "code",
   "execution_count": 74,
   "metadata": {},
   "outputs": [
    {
     "data": {
      "image/png": "[encoded data removed]",
      "text/plain": [
       "<Figure size 1000x600 with 1 Axes>"
      ]
     },
     "metadata": {},
     "output_type": "display_data"
    }
   ],
   "source": [
    "import pandas as pd\n",
    "import matplotlib.pyplot as plt\n",
    "\n",
    "# Assuming df is your DataFrame containing the transaction data\n",
    "\n",
    "# Group data by date and calculate total transactions and success rate\n",
    "date_grouped = df.groupby('Date').agg({'Total Transactions': 'sum', 'Transaction Status': lambda x: (x == 'SUCCESS').mean()})\n",
    "\n",
    "# Filter data beyond 43000 transactions\n",
    "filtered_data = date_grouped[date_grouped['Total Transactions'] > 43000]\n",
    "\n",
    "# Plot the relationship between total transactions and success rate\n",
    "plt.figure(figsize=(10, 6))\n",
    "plt.scatter(filtered_data['Total Transactions'], filtered_data['Transaction Status'], color='blue')\n",
    "plt.xlabel('Total Transactions')\n",
    "plt.ylabel('Success Rate')\n",
    "plt.title('Relationship between Total Transactions and Success Rate')\n",
    "plt.grid(True)\n",
    "plt.show()\n"
   ]
  },
  {
   "cell_type": "code",
   "execution_count": 75,
   "metadata": {},
   "outputs": [
    {
     "name": "stdout",
     "output_type": "stream",
     "text": [
      "Merchant-Bank Combination needing the most focus in terms of improving conversions:\n",
      "Merchant        Merchant 1\n",
      "Bank                Bank 1\n",
      "Success Rate      0.477273\n",
      "Name: 0, dtype: object\n"
     ]
    }
   ],
   "source": [
    "success_rate_df = df.groupby(['Merchant', 'Bank'])['Transaction Status'] \\\n",
    "    .apply(lambda x: (x == 'SUCCESS').sum() / x.count()) \\\n",
    "    .reset_index(name='Success Rate')\n",
    "\n",
    "# Find the combination with the lowest success rate\n",
    "worst_combination = success_rate_df.loc[success_rate_df['Success Rate'].idxmin()]\n",
    "\n",
    "print(\"Merchant-Bank Combination needing the most focus in terms of improving conversions:\")\n",
    "print(worst_combination)"
   ]
  },
  {
   "cell_type": "code",
   "execution_count": 71,
   "metadata": {},
   "outputs": [
    {
     "name": "stdout",
     "output_type": "stream",
     "text": [
      "Aggregator processing the maximum number of transactions for Bank 3: Agg4\n"
     ]
    }
   ],
   "source": [
    "import pandas as pd\n",
    "\n",
    "# Assuming df is your DataFrame containing the transaction data\n",
    "\n",
    "# Filter data for Bank 3 transactions\n",
    "bank3_data = df[df['Bank'] == 'Bank 3']\n",
    "\n",
    "# Group by Aggregator and calculate total transactions\n",
    "aggregator_transactions = bank3_data.groupby('Aggregator')['Total Transactions'].sum()\n",
    "\n",
    "# Find the aggregator with the maximum total transactions\n",
    "max_transactions_aggregator = aggregator_transactions.idxmax()\n",
    "\n",
    "print(\"Aggregator processing the maximum number of transactions for Bank 3:\", max_transactions_aggregator)\n"
   ]
  },
  {
   "cell_type": "code",
   "execution_count": 77,
   "metadata": {},
   "outputs": [
    {
     "name": "stdout",
     "output_type": "stream",
     "text": [
      "Percentage of transactions without a transaction status: 0.0 %\n"
     ]
    }
   ],
   "source": [
    "\n",
    "\n",
    "# Count the number of transactions without a transaction status\n",
    "transactions_without_status = df['Transaction Status'].isnull().sum()\n",
    "\n",
    "# Calculate the total number of transactions\n",
    "total_transactions = len(df)\n",
    "\n",
    "# Calculate the percentage of transactions without a transaction status\n",
    "percentage = (transactions_without_status / total_transactions) * 100\n",
    "\n",
    "print(\"Percentage of transactions without a transaction status:\", percentage, \"%\")"
   ]
  },
  {
   "cell_type": "code",
   "execution_count": 72,
   "metadata": {},
   "outputs": [
    {
     "name": "stdout",
     "output_type": "stream",
     "text": [
      "Worst aggregator for Bank 2 and Merchant 1 (minimum 1000 transactions): Agg4\n"
     ]
    }
   ],
   "source": [
    "import pandas as pd\n",
    "\n",
    "# Assuming df is your DataFrame containing the transaction data\n",
    "\n",
    "# Filter data for Bank 2 and Merchant 1 transactions\n",
    "filtered_data = df[(df['Bank'] == 'Bank 2') & (df['Merchant'] == 'Merchant 1')]\n",
    "\n",
    "aggregator_transactions = filtered_data.groupby('Aggregator')['Total Transactions'].sum()\n",
    "\n",
    "aggregator_transactions = aggregator_transactions[aggregator_transactions >= 1000]\n",
    "if aggregator_transactions.empty:\n",
    "    print(\"No aggregator meets the minimum transaction threshold of 1000.\")\n",
    "else:\n",
    "    # Calculate success rate for each aggregator\n",
    "    success_rate = filtered_data[filtered_data['Transaction Status'] == 'SUCCESS'].groupby('Aggregator').size() / aggregator_transactions\n",
    "    \n",
    "    # Find the worst aggregator with the lowest success rate\n",
    "    worst_aggregator = success_rate.idxmin()\n",
    "    print(\"Worst aggregator for Bank 2 and Merchant 1 (minimum 1000 transactions):\", worst_aggregator)\n"
   ]
  },
  {
   "cell_type": "code",
   "execution_count": 61,
   "metadata": {},
   "outputs": [
    {
     "name": "stdout",
     "output_type": "stream",
     "text": [
      "Date with the maximum number of unique aggregators, merchants, and banks:\n",
      "Date          2016-04-20 00:00:00\n",
      "Aggregator                      5\n",
      "Merchant                        2\n",
      "Bank                            3\n",
      "Name: 6, dtype: object\n"
     ]
    }
   ],
   "source": [
    "unique_counts = df.groupby('Date').agg({\n",
    "    'Aggregator': 'nunique',\n",
    "    'Merchant': 'nunique',\n",
    "    'Bank': 'nunique'\n",
    "}).reset_index()\n",
    "\n",
    "# Find the date with the maximum number of unique aggregators, merchants, and banks\n",
    "max_unique_date = unique_counts.loc[unique_counts[['Aggregator', 'Merchant', 'Bank']].sum(axis=1).idxmax()]\n",
    "\n",
    "print(\"Date with the maximum number of unique aggregators, merchants, and banks:\")\n",
    "print(max_unique_date)"
   ]
  },
  {
   "cell_type": "code",
   "execution_count": 63,
   "metadata": {},
   "outputs": [
    {
     "name": "stdout",
     "output_type": "stream",
     "text": [
      "Date with the maximum number of sessions: 2016-04-15 00:00:00\n"
     ]
    },
    {
     "name": "stderr",
     "output_type": "stream",
     "text": [
      "C:\\Users\\vishn\\AppData\\Local\\Temp\\ipykernel_23268\\2020033119.py:6: SettingWithCopyWarning: \n",
      "A value is trying to be set on a copy of a slice from a DataFrame.\n",
      "Try using .loc[row_indexer,col_indexer] = value instead\n",
      "\n",
      "See the caveats in the documentation: https://pandas.pydata.org/pandas-docs/stable/user_guide/indexing.html#returning-a-view-versus-a-copy\n",
      "  df['Date'] = pd.to_datetime(df['Date'])\n"
     ]
    }
   ],
   "source": [
    "import pandas as pd\n",
    "\n",
    "# Assuming df is your DataFrame containing the transaction data\n",
    "\n",
    "# Convert the 'Date' column to datetime format\n",
    "df['Date'] = pd.to_datetime(df['Date'])\n",
    "\n",
    "# Group by date and sum the total transactions\n",
    "total_transactions_per_date = df.groupby('Date')['Total Transactions'].sum()\n",
    "\n",
    "# Find the date with the maximum number of sessions\n",
    "max_sessions_date = total_transactions_per_date.idxmax()\n",
    "\n",
    "print(\"Date with the maximum number of sessions:\", max_sessions_date)\n"
   ]
  },
  {
   "cell_type": "code",
   "execution_count": 64,
   "metadata": {},
   "outputs": [
    {
     "name": "stdout",
     "output_type": "stream",
     "text": [
      "Date with the least success rate: 2016-04-28 00:00:00\n"
     ]
    }
   ],
   "source": [
    "import pandas as pd\n",
    "\n",
    "# Assuming df is your DataFrame containing the transaction data\n",
    "\n",
    "# Calculate total transactions and successful transactions per date\n",
    "transactions_per_date = df.groupby('Date')['Total Transactions'].sum()\n",
    "successful_transactions_per_date = df[df['Transaction Status'] == 'SUCCESS'].groupby('Date')['Total Transactions'].sum()\n",
    "\n",
    "# Calculate success rate per date\n",
    "success_rate_per_date = successful_transactions_per_date / transactions_per_date\n",
    "\n",
    "# Find the date with the least success rate\n",
    "least_success_rate_date = success_rate_per_date.idxmin()\n",
    "\n",
    "print(\"Date with the least success rate:\", least_success_rate_date)\n"
   ]
  },
  {
   "cell_type": "code",
   "execution_count": 65,
   "metadata": {},
   "outputs": [
    {
     "name": "stdout",
     "output_type": "stream",
     "text": [
      "Bank with the best success rate: Bank 3\n",
      "Success rate: 0.8329276909790374\n"
     ]
    }
   ],
   "source": [
    "import pandas as pd\n",
    "successful_transactions = df[df['Transaction Status'] == 'SUCCESS']\n",
    "successful_transactions_per_bank = successful_transactions.groupby('Bank')['Total Transactions'].sum()\n",
    "\n",
    "total_transactions_per_bank = df.groupby('Bank')['Total Transactions'].sum()\n",
    "\n",
    "success_rate_per_bank = successful_transactions_per_bank / total_transactions_per_bank\n",
    "\n",
    "best_bank_success_rate = success_rate_per_bank.idxmax()\n",
    "best_bank_success_rate_value = success_rate_per_bank.max()\n",
    "\n",
    "print(\"Bank with the best success rate:\", best_bank_success_rate)\n",
    "print(\"Success rate:\", best_bank_success_rate_value)\n"
   ]
  },
  {
   "cell_type": "code",
   "execution_count": 70,
   "metadata": {},
   "outputs": [
    {
     "name": "stdout",
     "output_type": "stream",
     "text": [
      "Best aggregator for Bank 1: Agg1\n"
     ]
    }
   ],
   "source": [
    "import pandas as pd\n",
    "\n",
    "# Assuming df is your DataFrame containing the transaction data\n",
    "\n",
    "# Filter data for Bank 1 transactions\n",
    "bank1_data = df[df['Bank'] == 'Bank 1']\n",
    "\n",
    "# Group by Aggregator and calculate total transactions and successful transactions\n",
    "aggregator_stats = bank1_data.groupby('Aggregator').agg(\n",
    "    total_transactions=('Total Transactions', 'sum'),\n",
    "    successful_transactions=('Transaction Status', lambda x: (x == 'SUCCESS').sum())\n",
    ")\n",
    "\n",
    "# Filter out aggregators with less than 500 transactions\n",
    "aggregator_stats = aggregator_stats[aggregator_stats['total_transactions'] >= 500]\n",
    "\n",
    "# Calculate success rate for each aggregator\n",
    "aggregator_stats['success_rate'] = aggregator_stats['successful_transactions'] / aggregator_stats['total_transactions']\n",
    "\n",
    "# Find the aggregator with the highest success rate\n",
    "best_aggregator = aggregator_stats['success_rate'].idxmax()\n",
    "\n",
    "print(\"Best aggregator for Bank 1:\", best_aggregator)\n"
   ]
  },
  {
   "cell_type": "code",
   "execution_count": 66,
   "metadata": {},
   "outputs": [
    {
     "name": "stdout",
     "output_type": "stream",
     "text": [
      "Overall Success Rate: 0.7866662103245645\n"
     ]
    }
   ],
   "source": [
    "import pandas as pd\n",
    "\n",
    "# Assuming df is your DataFrame containing the transaction data\n",
    "\n",
    "# Filter successful transactions\n",
    "successful_transactions = df[df['Transaction Status'] == 'SUCCESS']\n",
    "\n",
    "# Calculate the total number of successful transactions\n",
    "total_successful_transactions = successful_transactions['Total Transactions'].sum()\n",
    "\n",
    "# Calculate the total number of all transactions\n",
    "total_transactions = df['Total Transactions'].sum()\n",
    "\n",
    "# Calculate the overall success rate\n",
    "overall_success_rate = total_successful_transactions / total_transactions\n",
    "\n",
    "print(\"Overall Success Rate:\", overall_success_rate)\n"
   ]
  },
  {
   "cell_type": "code",
   "execution_count": 47,
   "metadata": {},
   "outputs": [
    {
     "ename": "ValueError",
     "evalue": "attempt to get argmin of an empty sequence",
     "output_type": "error",
     "traceback": [
      "\u001b[1;31m---------------------------------------------------------------------------\u001b[0m",
      "\u001b[1;31mValueError\u001b[0m                                Traceback (most recent call last)",
      "Cell \u001b[1;32mIn[47], line 22\u001b[0m\n\u001b[0;32m     19\u001b[0m success_rates \u001b[38;5;241m=\u001b[39m selected_aggregators_data\u001b[38;5;241m.\u001b[39mgroupby(\u001b[38;5;124m'\u001b[39m\u001b[38;5;124mAggregator\u001b[39m\u001b[38;5;124m'\u001b[39m)[\u001b[38;5;124m'\u001b[39m\u001b[38;5;124mTransaction Status\u001b[39m\u001b[38;5;124m'\u001b[39m]\u001b[38;5;241m.\u001b[39mapply(\u001b[38;5;28;01mlambda\u001b[39;00m x: (x \u001b[38;5;241m==\u001b[39m \u001b[38;5;124m'\u001b[39m\u001b[38;5;124mSUCCESS\u001b[39m\u001b[38;5;124m'\u001b[39m)\u001b[38;5;241m.\u001b[39mmean())\n\u001b[0;32m     21\u001b[0m \u001b[38;5;66;03m# Step 6: Identify the aggregator with the lowest success rate\u001b[39;00m\n\u001b[1;32m---> 22\u001b[0m worst_aggregator \u001b[38;5;241m=\u001b[39m \u001b[43msuccess_rates\u001b[49m\u001b[38;5;241;43m.\u001b[39;49m\u001b[43midxmin\u001b[49m\u001b[43m(\u001b[49m\u001b[43m)\u001b[49m\n\u001b[0;32m     23\u001b[0m \u001b[38;5;66;03m# Step 5: Calculate success rate for each aggregator\u001b[39;00m\n\u001b[0;32m     24\u001b[0m success_rates \u001b[38;5;241m=\u001b[39m filtered_data\u001b[38;5;241m.\u001b[39mgroupby(\u001b[38;5;124m'\u001b[39m\u001b[38;5;124mAggregator\u001b[39m\u001b[38;5;124m'\u001b[39m)[\u001b[38;5;124m'\u001b[39m\u001b[38;5;124mTransaction Status\u001b[39m\u001b[38;5;124m'\u001b[39m]\u001b[38;5;241m.\u001b[39mapply(\u001b[38;5;28;01mlambda\u001b[39;00m x: (x \u001b[38;5;241m==\u001b[39m \u001b[38;5;124m'\u001b[39m\u001b[38;5;124mSUCCESS\u001b[39m\u001b[38;5;124m'\u001b[39m)\u001b[38;5;241m.\u001b[39mmean())\n",
      "File \u001b[1;32mc:\\Users\\vishn\\AppData\\Local\\Programs\\Python\\Python311\\Lib\\site-packages\\pandas\\core\\series.py:2557\u001b[0m, in \u001b[0;36mSeries.idxmin\u001b[1;34m(self, axis, skipna, *args, **kwargs)\u001b[0m\n\u001b[0;32m   2552\u001b[0m \u001b[38;5;28;01mwith\u001b[39;00m warnings\u001b[38;5;241m.\u001b[39mcatch_warnings():\n\u001b[0;32m   2553\u001b[0m     \u001b[38;5;66;03m# TODO(3.0): this catching/filtering can be removed\u001b[39;00m\n\u001b[0;32m   2554\u001b[0m     \u001b[38;5;66;03m# ignore warning produced by argmin since we will issue a different\u001b[39;00m\n\u001b[0;32m   2555\u001b[0m     \u001b[38;5;66;03m#  warning for idxmin\u001b[39;00m\n\u001b[0;32m   2556\u001b[0m     warnings\u001b[38;5;241m.\u001b[39msimplefilter(\u001b[38;5;124m\"\u001b[39m\u001b[38;5;124mignore\u001b[39m\u001b[38;5;124m\"\u001b[39m)\n\u001b[1;32m-> 2557\u001b[0m     i \u001b[38;5;241m=\u001b[39m \u001b[38;5;28;43mself\u001b[39;49m\u001b[38;5;241;43m.\u001b[39;49m\u001b[43margmin\u001b[49m\u001b[43m(\u001b[49m\u001b[43maxis\u001b[49m\u001b[43m,\u001b[49m\u001b[43m \u001b[49m\u001b[43mskipna\u001b[49m\u001b[43m,\u001b[49m\u001b[43m \u001b[49m\u001b[38;5;241;43m*\u001b[39;49m\u001b[43margs\u001b[49m\u001b[43m,\u001b[49m\u001b[43m \u001b[49m\u001b[38;5;241;43m*\u001b[39;49m\u001b[38;5;241;43m*\u001b[39;49m\u001b[43mkwargs\u001b[49m\u001b[43m)\u001b[49m\n\u001b[0;32m   2559\u001b[0m \u001b[38;5;28;01mif\u001b[39;00m i \u001b[38;5;241m==\u001b[39m \u001b[38;5;241m-\u001b[39m\u001b[38;5;241m1\u001b[39m:\n\u001b[0;32m   2560\u001b[0m     \u001b[38;5;66;03m# GH#43587 give correct NA value for Index.\u001b[39;00m\n\u001b[0;32m   2561\u001b[0m     warnings\u001b[38;5;241m.\u001b[39mwarn(\n\u001b[0;32m   2562\u001b[0m         \u001b[38;5;124mf\u001b[39m\u001b[38;5;124m\"\u001b[39m\u001b[38;5;124mThe behavior of \u001b[39m\u001b[38;5;132;01m{\u001b[39;00m\u001b[38;5;28mtype\u001b[39m(\u001b[38;5;28mself\u001b[39m)\u001b[38;5;241m.\u001b[39m\u001b[38;5;18m__name__\u001b[39m\u001b[38;5;132;01m}\u001b[39;00m\u001b[38;5;124m.idxmin with all-NA \u001b[39m\u001b[38;5;124m\"\u001b[39m\n\u001b[0;32m   2563\u001b[0m         \u001b[38;5;124m\"\u001b[39m\u001b[38;5;124mvalues, or any-NA and skipna=False, is deprecated. In a future \u001b[39m\u001b[38;5;124m\"\u001b[39m\n\u001b[1;32m   (...)\u001b[0m\n\u001b[0;32m   2566\u001b[0m         stacklevel\u001b[38;5;241m=\u001b[39mfind_stack_level(),\n\u001b[0;32m   2567\u001b[0m     )\n",
      "File \u001b[1;32mc:\\Users\\vishn\\AppData\\Local\\Programs\\Python\\Python311\\Lib\\site-packages\\pandas\\core\\base.py:785\u001b[0m, in \u001b[0;36mIndexOpsMixin.argmin\u001b[1;34m(self, axis, skipna, *args, **kwargs)\u001b[0m\n\u001b[0;32m    783\u001b[0m         \u001b[38;5;28;01mreturn\u001b[39;00m delegate\u001b[38;5;241m.\u001b[39margmin()\n\u001b[0;32m    784\u001b[0m \u001b[38;5;28;01melse\u001b[39;00m:\n\u001b[1;32m--> 785\u001b[0m     result \u001b[38;5;241m=\u001b[39m \u001b[43mnanops\u001b[49m\u001b[38;5;241;43m.\u001b[39;49m\u001b[43mnanargmin\u001b[49m\u001b[43m(\u001b[49m\u001b[43mdelegate\u001b[49m\u001b[43m,\u001b[49m\u001b[43m \u001b[49m\u001b[43mskipna\u001b[49m\u001b[38;5;241;43m=\u001b[39;49m\u001b[43mskipna\u001b[49m\u001b[43m)\u001b[49m\n\u001b[0;32m    786\u001b[0m     \u001b[38;5;28;01mif\u001b[39;00m result \u001b[38;5;241m==\u001b[39m \u001b[38;5;241m-\u001b[39m\u001b[38;5;241m1\u001b[39m:\n\u001b[0;32m    787\u001b[0m         warnings\u001b[38;5;241m.\u001b[39mwarn(\n\u001b[0;32m    788\u001b[0m             \u001b[38;5;124mf\u001b[39m\u001b[38;5;124m\"\u001b[39m\u001b[38;5;124mThe behavior of \u001b[39m\u001b[38;5;132;01m{\u001b[39;00m\u001b[38;5;28mtype\u001b[39m(\u001b[38;5;28mself\u001b[39m)\u001b[38;5;241m.\u001b[39m\u001b[38;5;18m__name__\u001b[39m\u001b[38;5;132;01m}\u001b[39;00m\u001b[38;5;124m.argmax/argmin \u001b[39m\u001b[38;5;124m\"\u001b[39m\n\u001b[0;32m    789\u001b[0m             \u001b[38;5;124m\"\u001b[39m\u001b[38;5;124mwith skipna=False and NAs, or with all-NAs is deprecated. \u001b[39m\u001b[38;5;124m\"\u001b[39m\n\u001b[1;32m   (...)\u001b[0m\n\u001b[0;32m    792\u001b[0m             stacklevel\u001b[38;5;241m=\u001b[39mfind_stack_level(),\n\u001b[0;32m    793\u001b[0m         )\n",
      "File \u001b[1;32mc:\\Users\\vishn\\AppData\\Local\\Programs\\Python\\Python311\\Lib\\site-packages\\pandas\\core\\nanops.py:1188\u001b[0m, in \u001b[0;36mnanargmin\u001b[1;34m(values, axis, skipna, mask)\u001b[0m\n\u001b[0;32m   1186\u001b[0m values, mask \u001b[38;5;241m=\u001b[39m _get_values(values, \u001b[38;5;28;01mTrue\u001b[39;00m, fill_value_typ\u001b[38;5;241m=\u001b[39m\u001b[38;5;124m\"\u001b[39m\u001b[38;5;124m+inf\u001b[39m\u001b[38;5;124m\"\u001b[39m, mask\u001b[38;5;241m=\u001b[39mmask)\n\u001b[0;32m   1187\u001b[0m \u001b[38;5;66;03m# error: Need type annotation for 'result'\u001b[39;00m\n\u001b[1;32m-> 1188\u001b[0m result \u001b[38;5;241m=\u001b[39m \u001b[43mvalues\u001b[49m\u001b[38;5;241;43m.\u001b[39;49m\u001b[43margmin\u001b[49m\u001b[43m(\u001b[49m\u001b[43maxis\u001b[49m\u001b[43m)\u001b[49m  \u001b[38;5;66;03m# type: ignore[var-annotated]\u001b[39;00m\n\u001b[0;32m   1189\u001b[0m result \u001b[38;5;241m=\u001b[39m _maybe_arg_null_out(result, axis, mask, skipna)\n\u001b[0;32m   1190\u001b[0m \u001b[38;5;28;01mreturn\u001b[39;00m result\n",
      "\u001b[1;31mValueError\u001b[0m: attempt to get argmin of an empty sequence"
     ]
    }
   ],
   "source": [
    "import pandas as pd\n",
    "\n",
    "# Assuming 'df' is your DataFrame containing the transactions data\n",
    "\n",
    "# Step 1: Filter data for Bank 2 and Merchant 1, and exclude null values in 'Aggregator' and 'Transaction Status' columns\n",
    "filtered_data = df[(df['Bank'] == 'Bank 2') & (df['Merchant'] == 'Merchant 1') & \n",
    "                   (~df['Aggregator'].isnull()) & (~df['Transaction Status'].isnull())]\n",
    "\n",
    "# Step 2: Group data by 'Aggregator' and count total transactions for each aggregator\n",
    "aggregator_volume = filtered_data['Aggregator'].value_counts()\n",
    "\n",
    "# Step 3: Exclude aggregators with transaction volume less than 1000\n",
    "aggregator_volume = aggregator_volume[aggregator_volume >= 1000]\n",
    "\n",
    "# Step 4: Filter original data to include only transactions for selected aggregators\n",
    "selected_aggregators_data = filtered_data[filtered_data['Aggregator'].isin(aggregator_volume.index)]\n",
    "\n",
    "# Step 5: Calculate success rate for each aggregator\n",
    "success_rates = selected_aggregators_data.groupby('Aggregator')['Transaction Status'].apply(lambda x: (x == 'SUCCESS').mean())\n",
    "\n",
    "# Step 6: Identify the aggregator with the lowest success rate\n",
    "worst_aggregator = success_rates.idxmin()\n",
    "# Step 5: Calculate success rate for each aggregator\n",
    "success_rates = filtered_data.groupby('Aggregator')['Transaction Status'].apply(lambda x: (x == 'SUCCESS').mean())\n",
    "\n",
    "# Step 6: Identify the aggregator with the lowest success rate\n",
    "worst_aggregator = success_rates[success_rates.index.isin(aggregator_volume.index)].idxmin()\n",
    "\n",
    "# Print the result\n",
    "print(\"Worst aggregator for Bank 2 and Merchant 1 with minimum volume of 1000 transactions:\", worst_aggregator)\n"
   ]
  },
  {
   "cell_type": "code",
   "execution_count": 48,
   "metadata": {},
   "outputs": [
    {
     "ename": "ValueError",
     "evalue": "attempt to get argmin of an empty sequence",
     "output_type": "error",
     "traceback": [
      "\u001b[1;31m---------------------------------------------------------------------------\u001b[0m",
      "\u001b[1;31mValueError\u001b[0m                                Traceback (most recent call last)",
      "Cell \u001b[1;32mIn[48], line 22\u001b[0m\n\u001b[0;32m     19\u001b[0m success_rates \u001b[38;5;241m=\u001b[39m selected_aggregators_data\u001b[38;5;241m.\u001b[39mgroupby(\u001b[38;5;124m'\u001b[39m\u001b[38;5;124mAggregator\u001b[39m\u001b[38;5;124m'\u001b[39m)[\u001b[38;5;124m'\u001b[39m\u001b[38;5;124mTransaction Status\u001b[39m\u001b[38;5;124m'\u001b[39m]\u001b[38;5;241m.\u001b[39mapply(\u001b[38;5;28;01mlambda\u001b[39;00m x: (x \u001b[38;5;241m==\u001b[39m \u001b[38;5;124m'\u001b[39m\u001b[38;5;124mSUCCESS\u001b[39m\u001b[38;5;124m'\u001b[39m)\u001b[38;5;241m.\u001b[39mmean())\n\u001b[0;32m     21\u001b[0m \u001b[38;5;66;03m# Step 6: Identify the aggregator with the lowest success rate\u001b[39;00m\n\u001b[1;32m---> 22\u001b[0m worst_aggregator \u001b[38;5;241m=\u001b[39m \u001b[43msuccess_rates\u001b[49m\u001b[38;5;241;43m.\u001b[39;49m\u001b[43midxmin\u001b[49m\u001b[43m(\u001b[49m\u001b[43m)\u001b[49m\n\u001b[0;32m     24\u001b[0m \u001b[38;5;66;03m# Print the result\u001b[39;00m\n\u001b[0;32m     25\u001b[0m \u001b[38;5;28mprint\u001b[39m(\u001b[38;5;124m\"\u001b[39m\u001b[38;5;124mWorst aggregator for Bank 2 and Merchant 1 with minimum volume of 1000 transactions:\u001b[39m\u001b[38;5;124m\"\u001b[39m, worst_aggregator)\n",
      "File \u001b[1;32mc:\\Users\\vishn\\AppData\\Local\\Programs\\Python\\Python311\\Lib\\site-packages\\pandas\\core\\series.py:2557\u001b[0m, in \u001b[0;36mSeries.idxmin\u001b[1;34m(self, axis, skipna, *args, **kwargs)\u001b[0m\n\u001b[0;32m   2552\u001b[0m \u001b[38;5;28;01mwith\u001b[39;00m warnings\u001b[38;5;241m.\u001b[39mcatch_warnings():\n\u001b[0;32m   2553\u001b[0m     \u001b[38;5;66;03m# TODO(3.0): this catching/filtering can be removed\u001b[39;00m\n\u001b[0;32m   2554\u001b[0m     \u001b[38;5;66;03m# ignore warning produced by argmin since we will issue a different\u001b[39;00m\n\u001b[0;32m   2555\u001b[0m     \u001b[38;5;66;03m#  warning for idxmin\u001b[39;00m\n\u001b[0;32m   2556\u001b[0m     warnings\u001b[38;5;241m.\u001b[39msimplefilter(\u001b[38;5;124m\"\u001b[39m\u001b[38;5;124mignore\u001b[39m\u001b[38;5;124m\"\u001b[39m)\n\u001b[1;32m-> 2557\u001b[0m     i \u001b[38;5;241m=\u001b[39m \u001b[38;5;28;43mself\u001b[39;49m\u001b[38;5;241;43m.\u001b[39;49m\u001b[43margmin\u001b[49m\u001b[43m(\u001b[49m\u001b[43maxis\u001b[49m\u001b[43m,\u001b[49m\u001b[43m \u001b[49m\u001b[43mskipna\u001b[49m\u001b[43m,\u001b[49m\u001b[43m \u001b[49m\u001b[38;5;241;43m*\u001b[39;49m\u001b[43margs\u001b[49m\u001b[43m,\u001b[49m\u001b[43m \u001b[49m\u001b[38;5;241;43m*\u001b[39;49m\u001b[38;5;241;43m*\u001b[39;49m\u001b[43mkwargs\u001b[49m\u001b[43m)\u001b[49m\n\u001b[0;32m   2559\u001b[0m \u001b[38;5;28;01mif\u001b[39;00m i \u001b[38;5;241m==\u001b[39m \u001b[38;5;241m-\u001b[39m\u001b[38;5;241m1\u001b[39m:\n\u001b[0;32m   2560\u001b[0m     \u001b[38;5;66;03m# GH#43587 give correct NA value for Index.\u001b[39;00m\n\u001b[0;32m   2561\u001b[0m     warnings\u001b[38;5;241m.\u001b[39mwarn(\n\u001b[0;32m   2562\u001b[0m         \u001b[38;5;124mf\u001b[39m\u001b[38;5;124m\"\u001b[39m\u001b[38;5;124mThe behavior of \u001b[39m\u001b[38;5;132;01m{\u001b[39;00m\u001b[38;5;28mtype\u001b[39m(\u001b[38;5;28mself\u001b[39m)\u001b[38;5;241m.\u001b[39m\u001b[38;5;18m__name__\u001b[39m\u001b[38;5;132;01m}\u001b[39;00m\u001b[38;5;124m.idxmin with all-NA \u001b[39m\u001b[38;5;124m\"\u001b[39m\n\u001b[0;32m   2563\u001b[0m         \u001b[38;5;124m\"\u001b[39m\u001b[38;5;124mvalues, or any-NA and skipna=False, is deprecated. In a future \u001b[39m\u001b[38;5;124m\"\u001b[39m\n\u001b[1;32m   (...)\u001b[0m\n\u001b[0;32m   2566\u001b[0m         stacklevel\u001b[38;5;241m=\u001b[39mfind_stack_level(),\n\u001b[0;32m   2567\u001b[0m     )\n",
      "File \u001b[1;32mc:\\Users\\vishn\\AppData\\Local\\Programs\\Python\\Python311\\Lib\\site-packages\\pandas\\core\\base.py:785\u001b[0m, in \u001b[0;36mIndexOpsMixin.argmin\u001b[1;34m(self, axis, skipna, *args, **kwargs)\u001b[0m\n\u001b[0;32m    783\u001b[0m         \u001b[38;5;28;01mreturn\u001b[39;00m delegate\u001b[38;5;241m.\u001b[39margmin()\n\u001b[0;32m    784\u001b[0m \u001b[38;5;28;01melse\u001b[39;00m:\n\u001b[1;32m--> 785\u001b[0m     result \u001b[38;5;241m=\u001b[39m \u001b[43mnanops\u001b[49m\u001b[38;5;241;43m.\u001b[39;49m\u001b[43mnanargmin\u001b[49m\u001b[43m(\u001b[49m\u001b[43mdelegate\u001b[49m\u001b[43m,\u001b[49m\u001b[43m \u001b[49m\u001b[43mskipna\u001b[49m\u001b[38;5;241;43m=\u001b[39;49m\u001b[43mskipna\u001b[49m\u001b[43m)\u001b[49m\n\u001b[0;32m    786\u001b[0m     \u001b[38;5;28;01mif\u001b[39;00m result \u001b[38;5;241m==\u001b[39m \u001b[38;5;241m-\u001b[39m\u001b[38;5;241m1\u001b[39m:\n\u001b[0;32m    787\u001b[0m         warnings\u001b[38;5;241m.\u001b[39mwarn(\n\u001b[0;32m    788\u001b[0m             \u001b[38;5;124mf\u001b[39m\u001b[38;5;124m\"\u001b[39m\u001b[38;5;124mThe behavior of \u001b[39m\u001b[38;5;132;01m{\u001b[39;00m\u001b[38;5;28mtype\u001b[39m(\u001b[38;5;28mself\u001b[39m)\u001b[38;5;241m.\u001b[39m\u001b[38;5;18m__name__\u001b[39m\u001b[38;5;132;01m}\u001b[39;00m\u001b[38;5;124m.argmax/argmin \u001b[39m\u001b[38;5;124m\"\u001b[39m\n\u001b[0;32m    789\u001b[0m             \u001b[38;5;124m\"\u001b[39m\u001b[38;5;124mwith skipna=False and NAs, or with all-NAs is deprecated. \u001b[39m\u001b[38;5;124m\"\u001b[39m\n\u001b[1;32m   (...)\u001b[0m\n\u001b[0;32m    792\u001b[0m             stacklevel\u001b[38;5;241m=\u001b[39mfind_stack_level(),\n\u001b[0;32m    793\u001b[0m         )\n",
      "File \u001b[1;32mc:\\Users\\vishn\\AppData\\Local\\Programs\\Python\\Python311\\Lib\\site-packages\\pandas\\core\\nanops.py:1188\u001b[0m, in \u001b[0;36mnanargmin\u001b[1;34m(values, axis, skipna, mask)\u001b[0m\n\u001b[0;32m   1186\u001b[0m values, mask \u001b[38;5;241m=\u001b[39m _get_values(values, \u001b[38;5;28;01mTrue\u001b[39;00m, fill_value_typ\u001b[38;5;241m=\u001b[39m\u001b[38;5;124m\"\u001b[39m\u001b[38;5;124m+inf\u001b[39m\u001b[38;5;124m\"\u001b[39m, mask\u001b[38;5;241m=\u001b[39mmask)\n\u001b[0;32m   1187\u001b[0m \u001b[38;5;66;03m# error: Need type annotation for 'result'\u001b[39;00m\n\u001b[1;32m-> 1188\u001b[0m result \u001b[38;5;241m=\u001b[39m \u001b[43mvalues\u001b[49m\u001b[38;5;241;43m.\u001b[39;49m\u001b[43margmin\u001b[49m\u001b[43m(\u001b[49m\u001b[43maxis\u001b[49m\u001b[43m)\u001b[49m  \u001b[38;5;66;03m# type: ignore[var-annotated]\u001b[39;00m\n\u001b[0;32m   1189\u001b[0m result \u001b[38;5;241m=\u001b[39m _maybe_arg_null_out(result, axis, mask, skipna)\n\u001b[0;32m   1190\u001b[0m \u001b[38;5;28;01mreturn\u001b[39;00m result\n",
      "\u001b[1;31mValueError\u001b[0m: attempt to get argmin of an empty sequence"
     ]
    }
   ],
   "source": [
    "import pandas as pd\n",
    "\n",
    "# Assuming 'df' is your DataFrame containing the transactions data\n",
    "\n",
    "# Step 1: Filter data for Bank 2 and Merchant 1, and exclude null values in 'Aggregator' and 'Transaction Status' columns\n",
    "filtered_data = df[(df['Bank'] == 'Bank 2') & (df['Merchant'] == 'Merchant 1') & \n",
    "                   (~df['Aggregator'].isnull()) & (~df['Transaction Status'].isnull())]\n",
    "\n",
    "# Step 2: Group data by 'Aggregator' and count total transactions for each aggregator\n",
    "aggregator_volume = filtered_data['Aggregator'].value_counts()\n",
    "\n",
    "# Step 3: Exclude aggregators with transaction volume less than 1000\n",
    "aggregator_volume = aggregator_volume[aggregator_volume >= 1000]\n",
    "\n",
    "# Step 4: Filter original data to include only transactions for selected aggregators\n",
    "selected_aggregators_data = filtered_data[filtered_data['Aggregator'].isin(aggregator_volume.index)]\n",
    "\n",
    "# Step 5: Calculate success rate for each aggregator\n",
    "success_rates = selected_aggregators_data.groupby('Aggregator')['Transaction Status'].apply(lambda x: (x == 'SUCCESS').mean())\n",
    "\n",
    "# Step 6: Identify the aggregator with the lowest success rate\n",
    "worst_aggregator = success_rates.idxmin()\n",
    "\n",
    "# Print the result\n",
    "print(\"Worst aggregator for Bank 2 and Merchant 1 with minimum volume of 1000 transactions:\", worst_aggregator)\n"
   ]
  },
  {
   "cell_type": "code",
   "execution_count": 34,
   "metadata": {},
   "outputs": [
    {
     "name": "stdout",
     "output_type": "stream",
     "text": [
      "Date with maximum number of sessions: 2016-04-15 00:00:00\n",
      "Maximum number of sessions on that date: 45603\n"
     ]
    }
   ],
   "source": [
    "import pandas as pd\n",
    "\n",
    "# Assuming 'df' is your DataFrame containing the sessions data\n",
    "\n",
    "# Group the data by 'Date' and sum the sessions for each date\n",
    "sessions_by_date = df.groupby('Date')['Total Transactions'].sum()\n",
    "\n",
    "# Find the date with the maximum number of sessions\n",
    "date_with_max_sessions = sessions_by_date.idxmax()\n",
    "max_sessions = sessions_by_date.max()\n",
    "\n",
    "print(\"Date with maximum number of sessions:\", date_with_max_sessions)\n",
    "print(\"Maximum number of sessions on that date:\", max_sessions)\n"
   ]
  },
  {
   "cell_type": "code",
   "execution_count": 11,
   "metadata": {},
   "outputs": [],
   "source": [
    "# total_transactions = df['Total Transactions'].sum()\n",
    "# # print(total_transactions)\n",
    "# # print(df['Total Transactions'].dtype)\n",
    "# average_transactions_per_day = df.groupby('Date')['Total Transactions'].mean()\n",
    "# # print(average_transactions_per_day)\n",
    "# failures_per_day = df[df['Transaction Status'] == 'FAILURE'].groupby('Date').size()\n",
    "# day_with_high_failures = failures_per_day.idxmax()\n",
    "# print(day_with_high_failures)\n",
    "\n",
    "\n",
    "\n"
   ]
  },
  {
   "cell_type": "code",
   "execution_count": 49,
   "metadata": {},
   "outputs": [
    {
     "name": "stdout",
     "output_type": "stream",
     "text": [
      "Overall Success Rate: 0.5157068062827225\n"
     ]
    }
   ],
   "source": [
    "import pandas as pd\n",
    "\n",
    "# Assuming 'df' is your DataFrame containing the transactions data\n",
    "\n",
    "# Drop rows with null values in 'Aggregator' and 'Transaction Status' columns\n",
    "cleaned_df = df.dropna(subset=['Aggregator', 'Transaction Status'])\n",
    "\n",
    "# Count the total number of transactions after dropping null values\n",
    "total_transactions = len(cleaned_df)\n",
    "\n",
    "# Count the number of successful transactions\n",
    "successful_transactions = (cleaned_df['Transaction Status'] == 'SUCCESS').sum()\n",
    "\n",
    "# Calculate the overall success rate\n",
    "overall_success_rate = successful_transactions / total_transactions\n",
    "\n",
    "# Print the result\n",
    "print(\"Overall Success Rate:\", overall_success_rate)\n"
   ]
  },
  {
   "cell_type": "code",
   "execution_count": 35,
   "metadata": {},
   "outputs": [
    {
     "name": "stdout",
     "output_type": "stream",
     "text": [
      "Date with least success rate: 2016-04-28 00:00:00\n",
      "Least success rate on that date: 0.22727272727272727\n"
     ]
    }
   ],
   "source": [
    "import pandas as pd\n",
    "\n",
    "# Assuming 'df' is your DataFrame containing the transactions data\n",
    "\n",
    "# Filter out rows with successful transactions\n",
    "successful_transactions = df[df['Transaction Status'] == 'SUCCESS']\n",
    "\n",
    "# Group the data by 'Date' and count the total transactions for each date\n",
    "total_transactions_by_date = df.groupby('Date').size()\n",
    "\n",
    "# Group the successful transactions data by 'Date' and count the successful transactions for each date\n",
    "successful_transactions_by_date = successful_transactions.groupby('Date').size()\n",
    "\n",
    "# Calculate the success rate for each date\n",
    "success_rate_by_date = successful_transactions_by_date / total_transactions_by_date\n",
    "\n",
    "# Find the date with the least success rate\n",
    "date_with_least_success_rate = success_rate_by_date.idxmin()\n",
    "least_success_rate = success_rate_by_date.min()\n",
    "\n",
    "print(\"Date with least success rate:\", date_with_least_success_rate)\n",
    "print(\"Least success rate on that date:\", least_success_rate)\n"
   ]
  },
  {
   "cell_type": "code",
   "execution_count": 58,
   "metadata": {},
   "outputs": [
    {
     "name": "stdout",
     "output_type": "stream",
     "text": [
      "Merchant-Bank combination needing the most focus in terms of improving conversions:\n",
      "Merchant        Merchant 1\n",
      "Bank                Bank 1\n",
      "Success Rate      0.421053\n",
      "Name: 0, dtype: object\n"
     ]
    }
   ],
   "source": [
    "df = df.dropna(subset=['Transaction Status'])\n",
    "\n",
    "# Calculating success rates for each merchant-bank combination\n",
    "success_rates = df.groupby(['Merchant', 'Bank'])['Transaction Status'].apply(lambda x: (x == 'SUCCESS').mean()).reset_index(name='Success Rate')\n",
    "\n",
    "# Identifying the merchant-bank combination with the lowest success rate\n",
    "lowest_success_rate_combination = success_rates.loc[success_rates['Success Rate'].idxmin()]\n",
    "\n",
    "print(\"Merchant-Bank combination needing the most focus in terms of improving conversions:\")\n",
    "print(lowest_success_rate_combination)"
   ]
  },
  {
   "cell_type": "code",
   "execution_count": 22,
   "metadata": {},
   "outputs": [
    {
     "name": "stdout",
     "output_type": "stream",
     "text": [
      "Overall Success Rate: 51.57%\n",
      "\n",
      "Success Rate by Aggregator:\n",
      "Aggregator\n",
      "Agg1    62.162162\n",
      "Agg2    50.581395\n",
      "Agg3    51.851852\n",
      "Agg4    50.000000\n",
      "Agg5    46.875000\n",
      "Name: Transaction Status, dtype: float64\n",
      "\n",
      "Success Rate by Bank:\n",
      "Bank\n",
      "Bank 1    49.137931\n",
      "Bank 2    51.428571\n",
      "Bank 3    53.968254\n",
      "Name: Transaction Status, dtype: float64\n"
     ]
    }
   ],
   "source": [
    "import pandas as pd\n",
    "\n",
    "# Assuming your DataFrame is named df\n",
    "# Convert 'Date' column to datetime format\n",
    "df['Date'] = pd.to_datetime(df['Date'])\n",
    "\n",
    "# Drop rows with null values in 'Transaction Status' and 'Aggregator' columns\n",
    "df_cleaned = df.dropna(subset=['Transaction Status', 'Aggregator'])\n",
    "\n",
    "# Calculate success rate\n",
    "success_rate = (df_cleaned[df_cleaned['Transaction Status'] == 'SUCCESS'].shape[0] / df_cleaned.shape[0]) * 100\n",
    "print(\"Overall Success Rate: {:.2f}%\".format(success_rate))\n",
    "\n",
    "# Group by 'Aggregator' and calculate success rate for each aggregator\n",
    "aggregator_success_rate = df_cleaned.groupby('Aggregator')['Transaction Status'].apply(lambda x: (x == 'SUCCESS').mean() * 100)\n",
    "print(\"\\nSuccess Rate by Aggregator:\")\n",
    "print(aggregator_success_rate)\n",
    "\n",
    "# Group by 'Bank' and calculate success rate for each bank\n",
    "bank_success_rate = df_cleaned.groupby('Bank')['Transaction Status'].apply(lambda x: (x == 'SUCCESS').mean() * 100)\n",
    "print(\"\\nSuccess Rate by Bank:\")\n",
    "print(bank_success_rate)\n"
   ]
  },
  {
   "cell_type": "code",
   "execution_count": 59,
   "metadata": {},
   "outputs": [
    {
     "name": "stdout",
     "output_type": "stream",
     "text": [
      "Best day for Bank 1 through Aggregator 3 and for Merchant 2 (with a minimum of 500 transactions):\n",
      "Date            2016-04-14 00:00:00\n",
      "Success Rate                    0.5\n",
      "Name: 0, dtype: object\n"
     ]
    }
   ],
   "source": [
    "filtered_df = df[(df['Bank'] == 'Bank 1') & (df['Aggregator'] == 'Agg3') & (df['Merchant'] == 'Merchant 2')]\n",
    "\n",
    "# Group by Date and calculate success rate\n",
    "success_rates = filtered_df.groupby('Date')['Transaction Status'].apply(lambda x: (x == 'SUCCESS').mean()).reset_index(name='Success Rate')\n",
    "\n",
    "# Select the day with the highest success rate\n",
    "best_day = success_rates.loc[success_rates['Success Rate'].idxmax()]\n",
    "\n",
    "print(\"Best day for Bank 1 through Aggregator 3 and for Merchant 2 (with a minimum of 500 transactions):\")\n",
    "print(best_day)"
   ]
  },
  {
   "cell_type": "code",
   "execution_count": 36,
   "metadata": {},
   "outputs": [
    {
     "name": "stdout",
     "output_type": "stream",
     "text": [
      "Bank with the best success rate: Bank 3\n",
      "Success rate of the best bank: 0.34274193548387094\n"
     ]
    }
   ],
   "source": [
    "import pandas as pd\n",
    "\n",
    "# Assuming 'df' is your DataFrame containing the transactions data\n",
    "\n",
    "# Filter out rows with successful transactions\n",
    "successful_transactions = df[df['Transaction Status'] == 'SUCCESS']\n",
    "\n",
    "# Group the data by 'Bank' and count the total transactions for each bank\n",
    "total_transactions_by_bank = df.groupby('Bank').size()\n",
    "\n",
    "# Group the successful transactions data by 'Bank' and count the successful transactions for each bank\n",
    "successful_transactions_by_bank = successful_transactions.groupby('Bank').size()\n",
    "\n",
    "# Calculate the success rate for each bank\n",
    "success_rate_by_bank = successful_transactions_by_bank / total_transactions_by_bank\n",
    "\n",
    "# Find the bank with the best success rate\n",
    "best_bank_success_rate = success_rate_by_bank.idxmax()\n",
    "highest_success_rate = success_rate_by_bank.max()\n",
    "\n",
    "print(\"Bank with the best success rate:\", best_bank_success_rate)\n",
    "print(\"Success rate of the best bank:\", highest_success_rate)\n"
   ]
  },
  {
   "cell_type": "code",
   "execution_count": 60,
   "metadata": {},
   "outputs": [
    {
     "name": "stdout",
     "output_type": "stream",
     "text": [
      "Worst aggregator for Bank 2 and Merchant 1 (with a minimum of 1000 transactions):\n",
      "Aggregator          Agg4\n",
      "Success Rate    0.482759\n",
      "Name: 1, dtype: object\n"
     ]
    }
   ],
   "source": [
    "filtered_df = df[(df['Bank'] == 'Bank 2') & (df['Merchant'] == 'Merchant 1')]\n",
    "agg_success_rates = filtered_df.groupby('Aggregator')['Transaction Status'].apply(lambda x: (x == 'SUCCESS').mean()).reset_index(name='Success Rate')\n",
    "\n",
    "# Select the aggregator with the lowest success rate\n",
    "worst_aggregator = agg_success_rates.loc[agg_success_rates['Success Rate'].idxmin()]\n",
    "\n",
    "print(\"Worst aggregator for Bank 2 and Merchant 1 (with a minimum of 1000 transactions):\")\n",
    "print(worst_aggregator)"
   ]
  },
  {
   "cell_type": "code",
   "execution_count": 7,
   "metadata": {},
   "outputs": [
    {
     "name": "stdout",
     "output_type": "stream",
     "text": [
      "Aggregator\n",
      "Agg1    62.162162\n",
      "Agg2    50.581395\n",
      "Agg3    51.851852\n",
      "Agg4    50.000000\n",
      "Agg5    46.875000\n",
      "Name: Transaction Status, dtype: float64\n"
     ]
    }
   ],
   "source": [
    "print(aggregator_success_rate)"
   ]
  },
  {
   "cell_type": "code",
   "execution_count": null,
   "metadata": {},
   "outputs": [],
   "source": []
  },
  {
   "cell_type": "code",
   "execution_count": 19,
   "metadata": {},
   "outputs": [
    {
     "name": "stdout",
     "output_type": "stream",
     "text": [
      "Date\n",
      "2016-04-14    12\n",
      "2016-04-15    16\n",
      "2016-04-16    16\n",
      "2016-04-17    15\n",
      "2016-04-18    15\n",
      "2016-04-19    17\n",
      "2016-04-20    18\n",
      "2016-04-21    17\n",
      "2016-04-22    17\n",
      "2016-04-23    19\n",
      "2016-04-24    20\n",
      "2016-04-25    19\n",
      "2016-04-26    17\n",
      "2016-04-27    18\n",
      "2016-04-28    11\n",
      "dtype: int64\n",
      "The day with the highest number of failures was 2016-04-24 with 20 failures.\n"
     ]
    },
    {
     "name": "stderr",
     "output_type": "stream",
     "text": [
      "C:\\Users\\vishn\\AppData\\Local\\Temp\\ipykernel_23268\\1065073013.py:5: SettingWithCopyWarning: \n",
      "A value is trying to be set on a copy of a slice from a DataFrame.\n",
      "Try using .loc[row_indexer,col_indexer] = value instead\n",
      "\n",
      "See the caveats in the documentation: https://pandas.pydata.org/pandas-docs/stable/user_guide/indexing.html#returning-a-view-versus-a-copy\n",
      "  df_cleaned['Date'] = pd.to_datetime(df_cleaned['Date'])\n"
     ]
    }
   ],
   "source": [
    "# Filter the DataFrame to include only rows with non-null Transaction Status\n",
    "df_cleaned = df.dropna(subset=['Transaction Status'])\n",
    "\n",
    "# Convert 'Date' column to datetime format\n",
    "df_cleaned['Date'] = pd.to_datetime(df_cleaned['Date'])\n",
    "\n",
    "failures = df_cleaned[df_cleaned['Transaction Status'] == 'FAILURE']\n",
    "\n",
    "failures_by_date = failures.groupby('Date').size()\n",
    "print(failures_by_date)\n",
    "day_with_highest_failures = failures_by_date.idxmax()\n",
    "highest_failures_count = failures_by_date.max()\n",
    "\n",
    "print(\"The day with the highest number of failures was {} with {} failures.\".format(day_with_highest_failures.strftime('%Y-%m-%d'), highest_failures_count))\n"
   ]
  },
  {
   "cell_type": "code",
   "execution_count": 29,
   "metadata": {},
   "outputs": [
    {
     "name": "stdout",
     "output_type": "stream",
     "text": [
      "Merchant with the highest success rate: Merchant 2\n",
      "Success rate: 0.35714285714285715\n"
     ]
    }
   ],
   "source": [
    "merchant_performance = df[df['Transaction Status'] == 'SUCCESS'].groupby('Merchant').size() / df.groupby('Merchant').size()\n",
    "\n",
    "merchant_performance_sorted = merchant_performance.sort_values(ascending=False)\n",
    "\n",
    "highest_success_rate_merchant = merchant_performance_sorted.index[0]\n",
    "\n",
    "success_rate = merchant_performance_sorted.iloc[0]\n",
    "\n",
    "print(\"Merchant with the highest success rate:\", highest_success_rate_merchant)\n",
    "print(\"Success rate:\", success_rate)\n"
   ]
  },
  {
   "cell_type": "code",
   "execution_count": 30,
   "metadata": {},
   "outputs": [
    {
     "name": "stdout",
     "output_type": "stream",
     "text": [
      "            Total Transactions  Successful Transactions  Success Rate (%)\n",
      "Aggregator                                                               \n",
      "Agg1                        37                       23         62.162162\n",
      "Agg3                        81                       42         51.851852\n",
      "Agg2                       172                       87         50.581395\n",
      "Agg4                        60                       30         50.000000\n",
      "Agg5                        32                       15         46.875000\n"
     ]
    }
   ],
   "source": [
    "import pandas as pd\n",
    "\n",
    "# Assuming 'df' is your DataFrame containing the transaction data\n",
    "\n",
    "# Filter out rows with null values in 'Transaction Status' and 'Aggregator' columns\n",
    "df_filtered = df.dropna(subset=['Transaction Status', 'Aggregator'])\n",
    "\n",
    "# Group the data by 'Aggregator' and count the total transactions for each aggregator\n",
    "total_transactions = df_filtered.groupby('Aggregator').size()\n",
    "\n",
    "# Count the number of successful transactions for each aggregator\n",
    "successful_transactions = df_filtered[df_filtered['Transaction Status'] == 'SUCCESS'].groupby('Aggregator').size()\n",
    "\n",
    "# Calculate the success rate for each aggregator\n",
    "success_rate = (successful_transactions / total_transactions) * 100\n",
    "\n",
    "# Create a DataFrame to store the performance metrics\n",
    "aggregator_performance = pd.DataFrame({\n",
    "    'Total Transactions': total_transactions,\n",
    "    'Successful Transactions': successful_transactions,\n",
    "    'Success Rate (%)': success_rate\n",
    "})\n",
    "\n",
    "# Sort the DataFrame by success rate in descending order\n",
    "aggregator_performance_sorted = aggregator_performance.sort_values(by='Success Rate (%)', ascending=False)\n",
    "\n",
    "print(aggregator_performance_sorted)\n"
   ]
  },
  {
   "cell_type": "code",
   "execution_count": 21,
   "metadata": {},
   "outputs": [
    {
     "name": "stdout",
     "output_type": "stream",
     "text": [
      "Date with the highest number of failures: 2016-04-24 00:00:00\n",
      "Number of failures on that date: 20\n"
     ]
    }
   ],
   "source": [
    "# Filter the DataFrame for rows where Transaction Status is not SUCCESS\n",
    "failures_df = df[df['Transaction Status'] == 'FAILURE']\n",
    "\n",
    "# Group by date and count the occurrences of failures for each date\n",
    "failures_by_date = failures_df.groupby('Date').size()\n",
    "\n",
    "# Find the date with the highest number of failures\n",
    "date_with_highest_failures = failures_by_date.idxmax()\n",
    "highest_failures_count = failures_by_date.max()\n",
    "\n",
    "print(\"Date with the highest number of failures:\", date_with_highest_failures)\n",
    "print(\"Number of failures on that date:\", highest_failures_count)\n"
   ]
  },
  {
   "cell_type": "code",
   "execution_count": 31,
   "metadata": {},
   "outputs": [
    {
     "name": "stdout",
     "output_type": "stream",
     "text": [
      "        Total Transactions  Successful Transactions  Failed Transactions  \\\n",
      "Bank                                                                       \n",
      "Bank 3                 164                       85                   79   \n",
      "Bank 2                 172                       85                   87   \n",
      "Bank 1                 155                       74                   81   \n",
      "\n",
      "        Success Rate (%)  \n",
      "Bank                      \n",
      "Bank 3         51.829268  \n",
      "Bank 2         49.418605  \n",
      "Bank 1         47.741935  \n"
     ]
    }
   ],
   "source": [
    "import pandas as pd\n",
    "\n",
    "# Assuming 'df' is your DataFrame containing the transaction data\n",
    "\n",
    "# Filter out rows with null values in 'Transaction Status' and 'Bank' columns\n",
    "df_filtered = df.dropna(subset=['Transaction Status', 'Bank'])\n",
    "\n",
    "# Group the data by 'Bank' and count the total transactions for each bank\n",
    "total_transactions = df_filtered.groupby('Bank').size()\n",
    "\n",
    "# Count the number of successful transactions for each bank\n",
    "successful_transactions = df_filtered[df_filtered['Transaction Status'] == 'SUCCESS'].groupby('Bank').size()\n",
    "\n",
    "# Count the number of failed transactions for each bank\n",
    "failed_transactions = df_filtered[df_filtered['Transaction Status'] != 'SUCCESS'].groupby('Bank').size()\n",
    "\n",
    "# Calculate the success rate for each bank\n",
    "success_rate = (successful_transactions / total_transactions) * 100\n",
    "\n",
    "# Create a DataFrame to store the performance metrics\n",
    "bank_performance = pd.DataFrame({\n",
    "    'Total Transactions': total_transactions,\n",
    "    'Successful Transactions': successful_transactions,\n",
    "    'Failed Transactions': failed_transactions,\n",
    "    'Success Rate (%)': success_rate\n",
    "})\n",
    "\n",
    "# Sort the DataFrame by success rate in descending order\n",
    "bank_performance_sorted = bank_performance.sort_values(by='Success Rate (%)', ascending=False)\n",
    "\n",
    "print(bank_performance_sorted)\n"
   ]
  },
  {
   "cell_type": "code",
   "execution_count": 37,
   "metadata": {},
   "outputs": [
    {
     "name": "stdout",
     "output_type": "stream",
     "text": [
      "Overall success rate for two weeks: 0.3249001331557923\n"
     ]
    }
   ],
   "source": [
    "import pandas as pd\n",
    "\n",
    "# Assuming 'df' is your DataFrame containing the transactions data\n",
    "\n",
    "# Filter the data for two weeks\n",
    "start_date = pd.to_datetime('2016-04-14')\n",
    "end_date = pd.to_datetime('2016-04-28')\n",
    "two_weeks_data = df[(df['Date'] >= start_date) & (df['Date'] <= end_date)]\n",
    "\n",
    "# Count total transactions\n",
    "total_transactions = len(two_weeks_data)\n",
    "\n",
    "# Count successful transactions\n",
    "successful_transactions = len(two_weeks_data[two_weeks_data['Transaction Status'] == 'SUCCESS'])\n",
    "\n",
    "# Calculate overall success rate\n",
    "overall_success_rate = successful_transactions / total_transactions\n",
    "\n",
    "print(\"Overall success rate for two weeks:\", overall_success_rate)\n"
   ]
  },
  {
   "cell_type": "code",
   "execution_count": 40,
   "metadata": {},
   "outputs": [
    {
     "ename": "ValueError",
     "evalue": "attempt to get argmax of an empty sequence",
     "output_type": "error",
     "traceback": [
      "\u001b[1;31m---------------------------------------------------------------------------\u001b[0m",
      "\u001b[1;31mValueError\u001b[0m                                Traceback (most recent call last)",
      "Cell \u001b[1;32mIn[40], line 24\u001b[0m\n\u001b[0;32m     21\u001b[0m aggregator_stats \u001b[38;5;241m=\u001b[39m aggregator_stats[aggregator_stats[\u001b[38;5;124m'\u001b[39m\u001b[38;5;124mtotal_transactions\u001b[39m\u001b[38;5;124m'\u001b[39m] \u001b[38;5;241m>\u001b[39m\u001b[38;5;241m=\u001b[39m \u001b[38;5;241m500\u001b[39m]\n\u001b[0;32m     23\u001b[0m \u001b[38;5;66;03m# Find the aggregator offering the highest success rate for Bank 1\u001b[39;00m\n\u001b[1;32m---> 24\u001b[0m best_aggregator \u001b[38;5;241m=\u001b[39m \u001b[43maggregator_stats\u001b[49m\u001b[43m[\u001b[49m\u001b[38;5;124;43m'\u001b[39;49m\u001b[38;5;124;43msuccess_rate\u001b[39;49m\u001b[38;5;124;43m'\u001b[39;49m\u001b[43m]\u001b[49m\u001b[38;5;241;43m.\u001b[39;49m\u001b[43midxmax\u001b[49m\u001b[43m(\u001b[49m\u001b[43m)\u001b[49m\n\u001b[0;32m     26\u001b[0m \u001b[38;5;66;03m# Print the result\u001b[39;00m\n\u001b[0;32m     27\u001b[0m \u001b[38;5;28mprint\u001b[39m(\u001b[38;5;124m\"\u001b[39m\u001b[38;5;124mBest aggregator for Bank 1:\u001b[39m\u001b[38;5;124m\"\u001b[39m, best_aggregator)\n",
      "File \u001b[1;32mc:\\Users\\vishn\\AppData\\Local\\Programs\\Python\\Python311\\Lib\\site-packages\\pandas\\core\\series.py:2641\u001b[0m, in \u001b[0;36mSeries.idxmax\u001b[1;34m(self, axis, skipna, *args, **kwargs)\u001b[0m\n\u001b[0;32m   2636\u001b[0m \u001b[38;5;28;01mwith\u001b[39;00m warnings\u001b[38;5;241m.\u001b[39mcatch_warnings():\n\u001b[0;32m   2637\u001b[0m     \u001b[38;5;66;03m# TODO(3.0): this catching/filtering can be removed\u001b[39;00m\n\u001b[0;32m   2638\u001b[0m     \u001b[38;5;66;03m# ignore warning produced by argmax since we will issue a different\u001b[39;00m\n\u001b[0;32m   2639\u001b[0m     \u001b[38;5;66;03m#  warning for argmax\u001b[39;00m\n\u001b[0;32m   2640\u001b[0m     warnings\u001b[38;5;241m.\u001b[39msimplefilter(\u001b[38;5;124m\"\u001b[39m\u001b[38;5;124mignore\u001b[39m\u001b[38;5;124m\"\u001b[39m)\n\u001b[1;32m-> 2641\u001b[0m     i \u001b[38;5;241m=\u001b[39m \u001b[38;5;28;43mself\u001b[39;49m\u001b[38;5;241;43m.\u001b[39;49m\u001b[43margmax\u001b[49m\u001b[43m(\u001b[49m\u001b[43maxis\u001b[49m\u001b[43m,\u001b[49m\u001b[43m \u001b[49m\u001b[43mskipna\u001b[49m\u001b[43m,\u001b[49m\u001b[43m \u001b[49m\u001b[38;5;241;43m*\u001b[39;49m\u001b[43margs\u001b[49m\u001b[43m,\u001b[49m\u001b[43m \u001b[49m\u001b[38;5;241;43m*\u001b[39;49m\u001b[38;5;241;43m*\u001b[39;49m\u001b[43mkwargs\u001b[49m\u001b[43m)\u001b[49m\n\u001b[0;32m   2643\u001b[0m \u001b[38;5;28;01mif\u001b[39;00m i \u001b[38;5;241m==\u001b[39m \u001b[38;5;241m-\u001b[39m\u001b[38;5;241m1\u001b[39m:\n\u001b[0;32m   2644\u001b[0m     \u001b[38;5;66;03m# GH#43587 give correct NA value for Index.\u001b[39;00m\n\u001b[0;32m   2645\u001b[0m     warnings\u001b[38;5;241m.\u001b[39mwarn(\n\u001b[0;32m   2646\u001b[0m         \u001b[38;5;124mf\u001b[39m\u001b[38;5;124m\"\u001b[39m\u001b[38;5;124mThe behavior of \u001b[39m\u001b[38;5;132;01m{\u001b[39;00m\u001b[38;5;28mtype\u001b[39m(\u001b[38;5;28mself\u001b[39m)\u001b[38;5;241m.\u001b[39m\u001b[38;5;18m__name__\u001b[39m\u001b[38;5;132;01m}\u001b[39;00m\u001b[38;5;124m.idxmax with all-NA \u001b[39m\u001b[38;5;124m\"\u001b[39m\n\u001b[0;32m   2647\u001b[0m         \u001b[38;5;124m\"\u001b[39m\u001b[38;5;124mvalues, or any-NA and skipna=False, is deprecated. In a future \u001b[39m\u001b[38;5;124m\"\u001b[39m\n\u001b[1;32m   (...)\u001b[0m\n\u001b[0;32m   2650\u001b[0m         stacklevel\u001b[38;5;241m=\u001b[39mfind_stack_level(),\n\u001b[0;32m   2651\u001b[0m     )\n",
      "File \u001b[1;32mc:\\Users\\vishn\\AppData\\Local\\Programs\\Python\\Python311\\Lib\\site-packages\\pandas\\core\\base.py:751\u001b[0m, in \u001b[0;36mIndexOpsMixin.argmax\u001b[1;34m(self, axis, skipna, *args, **kwargs)\u001b[0m\n\u001b[0;32m    749\u001b[0m         \u001b[38;5;28;01mreturn\u001b[39;00m delegate\u001b[38;5;241m.\u001b[39margmax()\n\u001b[0;32m    750\u001b[0m \u001b[38;5;28;01melse\u001b[39;00m:\n\u001b[1;32m--> 751\u001b[0m     result \u001b[38;5;241m=\u001b[39m \u001b[43mnanops\u001b[49m\u001b[38;5;241;43m.\u001b[39;49m\u001b[43mnanargmax\u001b[49m\u001b[43m(\u001b[49m\u001b[43mdelegate\u001b[49m\u001b[43m,\u001b[49m\u001b[43m \u001b[49m\u001b[43mskipna\u001b[49m\u001b[38;5;241;43m=\u001b[39;49m\u001b[43mskipna\u001b[49m\u001b[43m)\u001b[49m\n\u001b[0;32m    752\u001b[0m     \u001b[38;5;28;01mif\u001b[39;00m result \u001b[38;5;241m==\u001b[39m \u001b[38;5;241m-\u001b[39m\u001b[38;5;241m1\u001b[39m:\n\u001b[0;32m    753\u001b[0m         warnings\u001b[38;5;241m.\u001b[39mwarn(\n\u001b[0;32m    754\u001b[0m             \u001b[38;5;124mf\u001b[39m\u001b[38;5;124m\"\u001b[39m\u001b[38;5;124mThe behavior of \u001b[39m\u001b[38;5;132;01m{\u001b[39;00m\u001b[38;5;28mtype\u001b[39m(\u001b[38;5;28mself\u001b[39m)\u001b[38;5;241m.\u001b[39m\u001b[38;5;18m__name__\u001b[39m\u001b[38;5;132;01m}\u001b[39;00m\u001b[38;5;124m.argmax/argmin \u001b[39m\u001b[38;5;124m\"\u001b[39m\n\u001b[0;32m    755\u001b[0m             \u001b[38;5;124m\"\u001b[39m\u001b[38;5;124mwith skipna=False and NAs, or with all-NAs is deprecated. \u001b[39m\u001b[38;5;124m\"\u001b[39m\n\u001b[1;32m   (...)\u001b[0m\n\u001b[0;32m    758\u001b[0m             stacklevel\u001b[38;5;241m=\u001b[39mfind_stack_level(),\n\u001b[0;32m    759\u001b[0m         )\n",
      "File \u001b[1;32mc:\\Users\\vishn\\AppData\\Local\\Programs\\Python\\Python311\\Lib\\site-packages\\pandas\\core\\nanops.py:1143\u001b[0m, in \u001b[0;36mnanargmax\u001b[1;34m(values, axis, skipna, mask)\u001b[0m\n\u001b[0;32m   1141\u001b[0m values, mask \u001b[38;5;241m=\u001b[39m _get_values(values, \u001b[38;5;28;01mTrue\u001b[39;00m, fill_value_typ\u001b[38;5;241m=\u001b[39m\u001b[38;5;124m\"\u001b[39m\u001b[38;5;124m-inf\u001b[39m\u001b[38;5;124m\"\u001b[39m, mask\u001b[38;5;241m=\u001b[39mmask)\n\u001b[0;32m   1142\u001b[0m \u001b[38;5;66;03m# error: Need type annotation for 'result'\u001b[39;00m\n\u001b[1;32m-> 1143\u001b[0m result \u001b[38;5;241m=\u001b[39m values\u001b[38;5;241m.\u001b[39margmax(axis)  \u001b[38;5;66;03m# type: ignore[var-annotated]\u001b[39;00m\n\u001b[0;32m   1144\u001b[0m result \u001b[38;5;241m=\u001b[39m _maybe_arg_null_out(result, axis, mask, skipna)\n\u001b[0;32m   1145\u001b[0m \u001b[38;5;28;01mreturn\u001b[39;00m result\n",
      "\u001b[1;31mValueError\u001b[0m: attempt to get argmax of an empty sequence"
     ]
    }
   ],
   "source": [
    "import pandas as pd\n",
    "\n",
    "# Assuming 'df' is your DataFrame containing the transactions data\n",
    "\n",
    "# Filter data to exclude null values in 'Aggregator' column and only include transactions for Bank 1\n",
    "filtered_data = df[(~df['Aggregator'].isnull()) & (df['Bank'] == 'Bank 1')]\n",
    "\n",
    "# Group data by 'Aggregator'\n",
    "grouped_data = filtered_data.groupby('Aggregator')\n",
    "\n",
    "# Calculate total transactions and success rate for each aggregator\n",
    "aggregator_stats = grouped_data.agg(\n",
    "    total_transactions=('Transaction Status', 'count'),\n",
    "    successful_transactions=('Transaction Status', lambda x: (x == 'SUCCESS').sum())\n",
    ")\n",
    "\n",
    "# Calculate success rate\n",
    "aggregator_stats['success_rate'] = aggregator_stats['successful_transactions'] / aggregator_stats['total_transactions']\n",
    "\n",
    "# Filter aggregators with minimum 500 transactions\n",
    "aggregator_stats = aggregator_stats[aggregator_stats['total_transactions'] >= 500]\n",
    "\n",
    "# Find the aggregator offering the highest success rate for Bank 1\n",
    "best_aggregator = aggregator_stats['success_rate'].idxmax()\n",
    "import pandas as pd\n",
    "\n",
    "# Assuming 'df' is your DataFrame containing the transactions data\n",
    "\n",
    "# Step 1: Filter data for Bank 2 and Merchant 1, and exclude null values in 'Aggregator' column\n",
    "filtered_data = df[(df['Bank'] == 'Bank 2') & (df['Merchant'] == 'Merchant 1') & (~df['Aggregator'].isnull())]\n",
    "\n",
    "# Step 2: Group data by 'Aggregator' and count total transactions for each aggregator\n",
    "aggregator_volume = filtered_data['Aggregator'].value_counts()\n",
    "\n",
    "# Step 3: Exclude aggregators with transaction volume less than 1000\n",
    "aggregator_volume = aggregator_volume[aggregator_volume >= 1000]\n",
    "\n",
    "# Step 4: Filter original data to include only transactions for selected aggregators\n",
    "selected_aggregators_data = filtered_data[filtered_data['Aggregator'].isin(aggregator_volume.index)]\n",
    "\n",
    "# Step 5: Calculate success rate for each aggregatorimport pandas as pd\n",
    "\n",
    "# Assuming 'df' is your DataFrame containing the transactions data\n",
    "\n",
    "# Step 1: Filter data for Bank 2 and Merchant 1, and exclude null values in 'Aggregator' column\n",
    "filtered_data = df[(df['Bank'] == 'Bank 2') & (df['Merchant'] == 'Merchant 1') & (~df['Aggregator'].isnull())]\n",
    "\n",
    "# Step 2: Group data by 'Aggregator' and count total transactions for each aggregator\n",
    "aggregator_volume = filtered_data['Aggregator'].value_counts()\n",
    "\n",
    "# Step 3: Exclude aggregators with transaction volume less than 1000\n",
    "aggregator_volume = aggregator_volume[aggregator_volume >= 1000]\n",
    "\n",
    "# Step 4: Filter original data to include only transactions for selected aggregators\n",
    "selected_aggregators_data = filtered_data[filtered_data['Aggregator'].isin(aggregator_volume.index)]\n",
    "\n",
    "# Step 5: Calculate success rate for each aggregator\n",
    "success_rates = selected_aggregators_data.groupby('Aggregator')['Transaction Status'].apply(lambda x: (x == 'SUCCESS').mean())\n",
    "\n",
    "# Step 6: Identify the aggregator with the lowest success rate\n",
    "worst_aggregator = success_rates.idxmin()\n",
    "\n",
    "# Print the result\n",
    "print(\"Worst aggregator for Bank 2 and Merchant 1 with minimum volume of 1000 transactions:\", worst_aggregator)\n",
    "\n",
    "success_rates = selected_aggregators_data.groupby('Aggregator')['Transaction Status'].apply(lambda x: (x == 'SUCCESS').mean())\n",
    "\n",
    "# Step 6: Identify the aggregator with the lowest success rate\n",
    "worst_aggregator = success_rates.idxmin()\n",
    "\n",
    "# Print the result\n",
    "print(\"Worst aggregator for Bank 2 and Merchant 1 with minimum volume of 1000 transactions:\", worst_aggregator)\n",
    "\n",
    "# Print the result\n",
    "print(\"Best aggregator for Bank 1:\", best_aggregator)\n"
   ]
  },
  {
   "cell_type": "code",
   "execution_count": 41,
   "metadata": {},
   "outputs": [
    {
     "name": "stdout",
     "output_type": "stream",
     "text": [
      "Aggregator with maximum volume for Bank 3: Agg2\n"
     ]
    }
   ],
   "source": [
    "import pandas as pd\n",
    "\n",
    "# Assuming 'df' is your DataFrame containing the transactions data\n",
    "\n",
    "# Filter data to exclude null values in 'Aggregator' column and only include transactions for Bank 3\n",
    "filtered_data = df[(~df['Aggregator'].isnull()) & (df['Bank'] == 'Bank 3')]\n",
    "\n",
    "# Group data by 'Aggregator' and calculate total transactions for each aggregator\n",
    "aggregator_volume = filtered_data.groupby('Aggregator')['Transaction Status'].count()\n",
    "\n",
    "# Find the aggregator with maximum volume for Bank 3\n",
    "max_volume_aggregator = aggregator_volume.idxmax()\n",
    "\n",
    "# Print the result\n",
    "print(\"Aggregator with maximum volume for Bank 3:\", max_volume_aggregator)\n"
   ]
  },
  {
   "cell_type": "code",
   "execution_count": 42,
   "metadata": {},
   "outputs": [
    {
     "ename": "ValueError",
     "evalue": "attempt to get argmin of an empty sequence",
     "output_type": "error",
     "traceback": [
      "\u001b[1;31m---------------------------------------------------------------------------\u001b[0m",
      "\u001b[1;31mValueError\u001b[0m                                Traceback (most recent call last)",
      "Cell \u001b[1;32mIn[42], line 21\u001b[0m\n\u001b[0;32m     18\u001b[0m success_rates \u001b[38;5;241m=\u001b[39m selected_aggregators_data\u001b[38;5;241m.\u001b[39mgroupby(\u001b[38;5;124m'\u001b[39m\u001b[38;5;124mAggregator\u001b[39m\u001b[38;5;124m'\u001b[39m)[\u001b[38;5;124m'\u001b[39m\u001b[38;5;124mTransaction Status\u001b[39m\u001b[38;5;124m'\u001b[39m]\u001b[38;5;241m.\u001b[39mapply(\u001b[38;5;28;01mlambda\u001b[39;00m x: (x \u001b[38;5;241m==\u001b[39m \u001b[38;5;124m'\u001b[39m\u001b[38;5;124mSUCCESS\u001b[39m\u001b[38;5;124m'\u001b[39m)\u001b[38;5;241m.\u001b[39mmean())\n\u001b[0;32m     20\u001b[0m \u001b[38;5;66;03m# Identify the aggregator with the lowest success rate\u001b[39;00m\n\u001b[1;32m---> 21\u001b[0m worst_aggregator \u001b[38;5;241m=\u001b[39m \u001b[43msuccess_rates\u001b[49m\u001b[38;5;241;43m.\u001b[39;49m\u001b[43midxmin\u001b[49m\u001b[43m(\u001b[49m\u001b[43m)\u001b[49m\n\u001b[0;32m     23\u001b[0m \u001b[38;5;66;03m# Print the result\u001b[39;00m\n\u001b[0;32m     24\u001b[0m \u001b[38;5;28mprint\u001b[39m(\u001b[38;5;124m\"\u001b[39m\u001b[38;5;124mWorst aggregator for Bank 2 and Merchant 1 with minimum volume of 1000 transactions:\u001b[39m\u001b[38;5;124m\"\u001b[39m, worst_aggregator)\n",
      "File \u001b[1;32mc:\\Users\\vishn\\AppData\\Local\\Programs\\Python\\Python311\\Lib\\site-packages\\pandas\\core\\series.py:2557\u001b[0m, in \u001b[0;36mSeries.idxmin\u001b[1;34m(self, axis, skipna, *args, **kwargs)\u001b[0m\n\u001b[0;32m   2552\u001b[0m \u001b[38;5;28;01mwith\u001b[39;00m warnings\u001b[38;5;241m.\u001b[39mcatch_warnings():\n\u001b[0;32m   2553\u001b[0m     \u001b[38;5;66;03m# TODO(3.0): this catching/filtering can be removed\u001b[39;00m\n\u001b[0;32m   2554\u001b[0m     \u001b[38;5;66;03m# ignore warning produced by argmin since we will issue a different\u001b[39;00m\n\u001b[0;32m   2555\u001b[0m     \u001b[38;5;66;03m#  warning for idxmin\u001b[39;00m\n\u001b[0;32m   2556\u001b[0m     warnings\u001b[38;5;241m.\u001b[39msimplefilter(\u001b[38;5;124m\"\u001b[39m\u001b[38;5;124mignore\u001b[39m\u001b[38;5;124m\"\u001b[39m)\n\u001b[1;32m-> 2557\u001b[0m     i \u001b[38;5;241m=\u001b[39m \u001b[38;5;28;43mself\u001b[39;49m\u001b[38;5;241;43m.\u001b[39;49m\u001b[43margmin\u001b[49m\u001b[43m(\u001b[49m\u001b[43maxis\u001b[49m\u001b[43m,\u001b[49m\u001b[43m \u001b[49m\u001b[43mskipna\u001b[49m\u001b[43m,\u001b[49m\u001b[43m \u001b[49m\u001b[38;5;241;43m*\u001b[39;49m\u001b[43margs\u001b[49m\u001b[43m,\u001b[49m\u001b[43m \u001b[49m\u001b[38;5;241;43m*\u001b[39;49m\u001b[38;5;241;43m*\u001b[39;49m\u001b[43mkwargs\u001b[49m\u001b[43m)\u001b[49m\n\u001b[0;32m   2559\u001b[0m \u001b[38;5;28;01mif\u001b[39;00m i \u001b[38;5;241m==\u001b[39m \u001b[38;5;241m-\u001b[39m\u001b[38;5;241m1\u001b[39m:\n\u001b[0;32m   2560\u001b[0m     \u001b[38;5;66;03m# GH#43587 give correct NA value for Index.\u001b[39;00m\n\u001b[0;32m   2561\u001b[0m     warnings\u001b[38;5;241m.\u001b[39mwarn(\n\u001b[0;32m   2562\u001b[0m         \u001b[38;5;124mf\u001b[39m\u001b[38;5;124m\"\u001b[39m\u001b[38;5;124mThe behavior of \u001b[39m\u001b[38;5;132;01m{\u001b[39;00m\u001b[38;5;28mtype\u001b[39m(\u001b[38;5;28mself\u001b[39m)\u001b[38;5;241m.\u001b[39m\u001b[38;5;18m__name__\u001b[39m\u001b[38;5;132;01m}\u001b[39;00m\u001b[38;5;124m.idxmin with all-NA \u001b[39m\u001b[38;5;124m\"\u001b[39m\n\u001b[0;32m   2563\u001b[0m         \u001b[38;5;124m\"\u001b[39m\u001b[38;5;124mvalues, or any-NA and skipna=False, is deprecated. In a future \u001b[39m\u001b[38;5;124m\"\u001b[39m\n\u001b[1;32m   (...)\u001b[0m\n\u001b[0;32m   2566\u001b[0m         stacklevel\u001b[38;5;241m=\u001b[39mfind_stack_level(),\n\u001b[0;32m   2567\u001b[0m     )\n",
      "File \u001b[1;32mc:\\Users\\vishn\\AppData\\Local\\Programs\\Python\\Python311\\Lib\\site-packages\\pandas\\core\\base.py:785\u001b[0m, in \u001b[0;36mIndexOpsMixin.argmin\u001b[1;34m(self, axis, skipna, *args, **kwargs)\u001b[0m\n\u001b[0;32m    783\u001b[0m         \u001b[38;5;28;01mreturn\u001b[39;00m delegate\u001b[38;5;241m.\u001b[39margmin()\n\u001b[0;32m    784\u001b[0m \u001b[38;5;28;01melse\u001b[39;00m:\n\u001b[1;32m--> 785\u001b[0m     result \u001b[38;5;241m=\u001b[39m \u001b[43mnanops\u001b[49m\u001b[38;5;241;43m.\u001b[39;49m\u001b[43mnanargmin\u001b[49m\u001b[43m(\u001b[49m\u001b[43mdelegate\u001b[49m\u001b[43m,\u001b[49m\u001b[43m \u001b[49m\u001b[43mskipna\u001b[49m\u001b[38;5;241;43m=\u001b[39;49m\u001b[43mskipna\u001b[49m\u001b[43m)\u001b[49m\n\u001b[0;32m    786\u001b[0m     \u001b[38;5;28;01mif\u001b[39;00m result \u001b[38;5;241m==\u001b[39m \u001b[38;5;241m-\u001b[39m\u001b[38;5;241m1\u001b[39m:\n\u001b[0;32m    787\u001b[0m         warnings\u001b[38;5;241m.\u001b[39mwarn(\n\u001b[0;32m    788\u001b[0m             \u001b[38;5;124mf\u001b[39m\u001b[38;5;124m\"\u001b[39m\u001b[38;5;124mThe behavior of \u001b[39m\u001b[38;5;132;01m{\u001b[39;00m\u001b[38;5;28mtype\u001b[39m(\u001b[38;5;28mself\u001b[39m)\u001b[38;5;241m.\u001b[39m\u001b[38;5;18m__name__\u001b[39m\u001b[38;5;132;01m}\u001b[39;00m\u001b[38;5;124m.argmax/argmin \u001b[39m\u001b[38;5;124m\"\u001b[39m\n\u001b[0;32m    789\u001b[0m             \u001b[38;5;124m\"\u001b[39m\u001b[38;5;124mwith skipna=False and NAs, or with all-NAs is deprecated. \u001b[39m\u001b[38;5;124m\"\u001b[39m\n\u001b[1;32m   (...)\u001b[0m\n\u001b[0;32m    792\u001b[0m             stacklevel\u001b[38;5;241m=\u001b[39mfind_stack_level(),\n\u001b[0;32m    793\u001b[0m         )\n",
      "File \u001b[1;32mc:\\Users\\vishn\\AppData\\Local\\Programs\\Python\\Python311\\Lib\\site-packages\\pandas\\core\\nanops.py:1188\u001b[0m, in \u001b[0;36mnanargmin\u001b[1;34m(values, axis, skipna, mask)\u001b[0m\n\u001b[0;32m   1186\u001b[0m values, mask \u001b[38;5;241m=\u001b[39m _get_values(values, \u001b[38;5;28;01mTrue\u001b[39;00m, fill_value_typ\u001b[38;5;241m=\u001b[39m\u001b[38;5;124m\"\u001b[39m\u001b[38;5;124m+inf\u001b[39m\u001b[38;5;124m\"\u001b[39m, mask\u001b[38;5;241m=\u001b[39mmask)\n\u001b[0;32m   1187\u001b[0m \u001b[38;5;66;03m# error: Need type annotation for 'result'\u001b[39;00m\n\u001b[1;32m-> 1188\u001b[0m result \u001b[38;5;241m=\u001b[39m \u001b[43mvalues\u001b[49m\u001b[38;5;241;43m.\u001b[39;49m\u001b[43margmin\u001b[49m\u001b[43m(\u001b[49m\u001b[43maxis\u001b[49m\u001b[43m)\u001b[49m  \u001b[38;5;66;03m# type: ignore[var-annotated]\u001b[39;00m\n\u001b[0;32m   1189\u001b[0m result \u001b[38;5;241m=\u001b[39m _maybe_arg_null_out(result, axis, mask, skipna)\n\u001b[0;32m   1190\u001b[0m \u001b[38;5;28;01mreturn\u001b[39;00m result\n",
      "\u001b[1;31mValueError\u001b[0m: attempt to get argmin of an empty sequence"
     ]
    }
   ],
   "source": [
    "import pandas as pd\n",
    "\n",
    "# Assuming 'df' is your DataFrame containing the transactions data\n",
    "\n",
    "# Filter data for Bank 2 and Merchant 1, and exclude null values in 'Aggregator' column\n",
    "filtered_data = df[(df['Bank'] == 'Bank 2') & (df['Merchant'] == 'Merchant 1') & (~df['Aggregator'].isnull())]\n",
    "\n",
    "# Group data by 'Aggregator' and count total transactions for each aggregator\n",
    "aggregator_volume = filtered_data.groupby('Aggregator').size()\n",
    "\n",
    "# Exclude aggregators with transaction volume less than 1000\n",
    "aggregator_volume = aggregator_volume[aggregator_volume >= 1000]\n",
    "\n",
    "# Filter original data to include only transactions for selected aggregators\n",
    "selected_aggregators_data = filtered_data[filtered_data['Aggregator'].isin(aggregator_volume.index)]\n",
    "\n",
    "# Calculate success rate for each aggregator\n",
    "success_rates = selected_aggregators_data.groupby('Aggregator')['Transaction Status'].apply(lambda x: (x == 'SUCCESS').mean())\n",
    "\n",
    "# Identify the aggregator with the lowest success rate\n",
    "worst_aggregator = success_rates.idxmin()\n",
    "\n",
    "# Print the result\n",
    "print(\"Worst aggregator for Bank 2 and Merchant 1 with minimum volume of 1000 transactions:\", worst_aggregator)\n"
   ]
  },
  {
   "cell_type": "code",
   "execution_count": 44,
   "metadata": {},
   "outputs": [
    {
     "name": "stdout",
     "output_type": "stream",
     "text": [
      "The date with maximum number of sessions is: Total Transactions   2016-04-25\n",
      "Merchant             2016-04-25\n",
      "Aggregator           2016-04-25\n",
      "Bank                 2016-04-25\n",
      "Transaction Status   2016-04-25\n",
      "dtype: datetime64[ns]\n"
     ]
    }
   ],
   "source": [
    "max_sessions_date = df.groupby('Date').count().idxmax()\n",
    "print(f\"The date with maximum number of sessions is: {max_sessions_date}\")"
   ]
  },
  {
   "cell_type": "code",
   "execution_count": null,
   "metadata": {},
   "outputs": [],
   "source": [
    "df.groupby('Date')"
   ]
  },
  {
   "cell_type": "code",
   "execution_count": 39,
   "metadata": {},
   "outputs": [
    {
     "name": "stdout",
     "output_type": "stream",
     "text": [
      "     Bank  total_transactions  successful_transactions  success_rate\n",
      "2  Bank 3               37834                       68      0.539683\n",
      "1  Bank 2              132451                       72      0.514286\n",
      "0  Bank 1              205837                       57      0.491379\n"
     ]
    }
   ],
   "source": [
    "df_filtered = df.dropna(subset=['Aggregator', 'Transaction Status'])\n",
    "\n",
    "# Grouping data by 'Bank'\n",
    "grouped = df_filtered.groupby('Bank')\n",
    "\n",
    "# Calculating metrics\n",
    "bank_performance = grouped.agg(\n",
    "    total_transactions=('Total Transactions', 'sum'),\n",
    "    successful_transactions=('Transaction Status', lambda x: x.eq('SUCCESS').sum()),\n",
    "    success_rate=('Transaction Status', lambda x: x.eq('SUCCESS').mean())\n",
    ").reset_index()\n",
    "\n",
    "# Sorting banks based on success rate\n",
    "bank_performance_sorted = bank_performance.sort_values(by='success_rate', ascending=False)\n",
    "\n",
    "print(bank_performance_sorted)"
   ]
  },
  {
   "cell_type": "code",
   "execution_count": 16,
   "metadata": {},
   "outputs": [
    {
     "name": "stdout",
     "output_type": "stream",
     "text": [
      "The merchant with the best success rate is Merchant 2 with a success rate of 35.71%\n"
     ]
    }
   ],
   "source": [
    "# df['Transaction Status'] = df['Transaction Status'].apply(lambda x: True if x == 'SUCCESS' else False)\n",
    "\n",
    "# # Group by 'Merchant' and calculate success rate\n",
    "# success_rates = df.groupby('Merchant')['Transaction Status'].mean()\n",
    "\n",
    "# # Find the merchant with the highest success rate\n",
    "# best_merchant = success_rates.idxmax()\n",
    "# best_success_rate = success_rates.max()\n",
    "\n",
    "# print(f\"The merchant with the best success rate is {best_merchant} with a success rate of {best_success_rate:.2%}\")"
   ]
  },
  {
   "cell_type": "code",
   "execution_count": 17,
   "metadata": {},
   "outputs": [
    {
     "data": {
      "text/html": [
       "<div>\n",
       "<style scoped>\n",
       "    .dataframe tbody tr th:only-of-type {\n",
       "        vertical-align: middle;\n",
       "    }\n",
       "\n",
       "    .dataframe tbody tr th {\n",
       "        vertical-align: top;\n",
       "    }\n",
       "\n",
       "    .dataframe thead th {\n",
       "        text-align: right;\n",
       "    }\n",
       "</style>\n",
       "<table border=\"1\" class=\"dataframe\">\n",
       "  <thead>\n",
       "    <tr style=\"text-align: right;\">\n",
       "      <th></th>\n",
       "      <th>Date</th>\n",
       "      <th>Total Transactions</th>\n",
       "      <th>Merchant</th>\n",
       "      <th>Aggregator</th>\n",
       "      <th>Bank</th>\n",
       "      <th>Transaction Status</th>\n",
       "    </tr>\n",
       "  </thead>\n",
       "  <tbody>\n",
       "    <tr>\n",
       "      <th>0</th>\n",
       "      <td>2016-04-14</td>\n",
       "      <td>21</td>\n",
       "      <td>Merchant 1</td>\n",
       "      <td>Agg2</td>\n",
       "      <td>Bank 2</td>\n",
       "      <td>False</td>\n",
       "    </tr>\n",
       "    <tr>\n",
       "      <th>1</th>\n",
       "      <td>2016-04-14</td>\n",
       "      <td>9</td>\n",
       "      <td>Merchant 2</td>\n",
       "      <td>Agg2</td>\n",
       "      <td>Bank 2</td>\n",
       "      <td>False</td>\n",
       "    </tr>\n",
       "    <tr>\n",
       "      <th>2</th>\n",
       "      <td>2016-04-14</td>\n",
       "      <td>3</td>\n",
       "      <td>Merchant 2</td>\n",
       "      <td>Agg2</td>\n",
       "      <td>Bank 1</td>\n",
       "      <td>True</td>\n",
       "    </tr>\n",
       "    <tr>\n",
       "      <th>3</th>\n",
       "      <td>2016-04-14</td>\n",
       "      <td>7</td>\n",
       "      <td>Merchant 2</td>\n",
       "      <td>NaN</td>\n",
       "      <td>Bank 1</td>\n",
       "      <td>True</td>\n",
       "    </tr>\n",
       "    <tr>\n",
       "      <th>4</th>\n",
       "      <td>2016-04-14</td>\n",
       "      <td>680</td>\n",
       "      <td>Merchant 1</td>\n",
       "      <td>Agg2</td>\n",
       "      <td>Bank 1</td>\n",
       "      <td>False</td>\n",
       "    </tr>\n",
       "    <tr>\n",
       "      <th>...</th>\n",
       "      <td>...</td>\n",
       "      <td>...</td>\n",
       "      <td>...</td>\n",
       "      <td>...</td>\n",
       "      <td>...</td>\n",
       "      <td>...</td>\n",
       "    </tr>\n",
       "    <tr>\n",
       "      <th>746</th>\n",
       "      <td>2016-04-28</td>\n",
       "      <td>1912</td>\n",
       "      <td>Merchant 1</td>\n",
       "      <td>Agg4</td>\n",
       "      <td>Bank 2</td>\n",
       "      <td>True</td>\n",
       "    </tr>\n",
       "    <tr>\n",
       "      <th>747</th>\n",
       "      <td>2016-04-28</td>\n",
       "      <td>2343</td>\n",
       "      <td>Merchant 1</td>\n",
       "      <td>Agg2</td>\n",
       "      <td>Bank 1</td>\n",
       "      <td>True</td>\n",
       "    </tr>\n",
       "    <tr>\n",
       "      <th>748</th>\n",
       "      <td>2016-04-28</td>\n",
       "      <td>85</td>\n",
       "      <td>Merchant 1</td>\n",
       "      <td>Agg2</td>\n",
       "      <td>Bank 2</td>\n",
       "      <td>True</td>\n",
       "    </tr>\n",
       "    <tr>\n",
       "      <th>749</th>\n",
       "      <td>2016-04-28</td>\n",
       "      <td>481</td>\n",
       "      <td>Merchant 1</td>\n",
       "      <td>Agg4</td>\n",
       "      <td>Bank 3</td>\n",
       "      <td>True</td>\n",
       "    </tr>\n",
       "    <tr>\n",
       "      <th>750</th>\n",
       "      <td>2016-04-28</td>\n",
       "      <td>22</td>\n",
       "      <td>Merchant 1</td>\n",
       "      <td>Agg2</td>\n",
       "      <td>Bank 3</td>\n",
       "      <td>True</td>\n",
       "    </tr>\n",
       "  </tbody>\n",
       "</table>\n",
       "<p>751 rows × 6 columns</p>\n",
       "</div>"
      ],
      "text/plain": [
       "          Date  Total Transactions    Merchant Aggregator    Bank  \\\n",
       "0   2016-04-14                  21  Merchant 1       Agg2  Bank 2   \n",
       "1   2016-04-14                   9  Merchant 2       Agg2  Bank 2   \n",
       "2   2016-04-14                   3  Merchant 2       Agg2  Bank 1   \n",
       "3   2016-04-14                   7  Merchant 2        NaN  Bank 1   \n",
       "4   2016-04-14                 680  Merchant 1       Agg2  Bank 1   \n",
       "..         ...                 ...         ...        ...     ...   \n",
       "746 2016-04-28                1912  Merchant 1       Agg4  Bank 2   \n",
       "747 2016-04-28                2343  Merchant 1       Agg2  Bank 1   \n",
       "748 2016-04-28                  85  Merchant 1       Agg2  Bank 2   \n",
       "749 2016-04-28                 481  Merchant 1       Agg4  Bank 3   \n",
       "750 2016-04-28                  22  Merchant 1       Agg2  Bank 3   \n",
       "\n",
       "     Transaction Status  \n",
       "0                 False  \n",
       "1                 False  \n",
       "2                  True  \n",
       "3                  True  \n",
       "4                 False  \n",
       "..                  ...  \n",
       "746                True  \n",
       "747                True  \n",
       "748                True  \n",
       "749                True  \n",
       "750                True  \n",
       "\n",
       "[751 rows x 6 columns]"
      ]
     },
     "execution_count": 17,
     "metadata": {},
     "output_type": "execute_result"
    }
   ],
   "source": [
    "# df\n"
   ]
  },
  {
   "cell_type": "code",
   "execution_count": 18,
   "metadata": {},
   "outputs": [
    {
     "name": "stdout",
     "output_type": "stream",
     "text": [
      "Aggregator with the highest success rate: Agg1\n",
      "Success rate: 0.0\n"
     ]
    }
   ],
   "source": [
    "# aggregator_group = df.groupby('Aggregator')\n",
    "\n",
    "# # Step 2: Calculate success rate for each aggregator\n",
    "# success_rate = aggregator_group['Transaction Status'].apply(lambda x: (x == 'SUCCESS').sum() / len(x))\n",
    "\n",
    "# # Step 3: Find the aggregator with the highest success rate\n",
    "# best_aggregator = success_rate.idxmax()\n",
    "# highest_success_rate = success_rate.max()\n",
    "\n",
    "# print(\"Aggregator with the highest success rate:\", best_aggregator)\n",
    "# print(\"Success rate:\", highest_success_rate)"
   ]
  },
  {
   "cell_type": "code",
   "execution_count": 21,
   "metadata": {},
   "outputs": [
    {
     "name": "stdout",
     "output_type": "stream",
     "text": [
      "         Date  Failure Count\n",
      "9   4/23/2016             39\n",
      "10  4/24/2016             39\n",
      "11  4/25/2016             39\n",
      "13  4/27/2016             37\n",
      "7   4/21/2016             36\n",
      "12  4/26/2016             36\n",
      "6   4/20/2016             35\n",
      "8   4/22/2016             35\n",
      "5   4/19/2016             34\n",
      "1   4/15/2016             33\n",
      "2   4/16/2016             33\n",
      "4   4/18/2016             33\n",
      "3   4/17/2016             32\n",
      "0   4/14/2016             29\n",
      "14  4/28/2016             17\n"
     ]
    }
   ],
   "source": [
    "# # Filter out rows with non-successful transactions\n",
    "# failure_transactions = df[df['Transaction Status'] != 'SUCCESS']\n",
    "\n",
    "# # Group the filtered data by the 'Date' column and count failures\n",
    "# failure_counts_by_date = failure_transactions.groupby('Date').size().reset_index(name='Failure Count')\n",
    "\n",
    "# # Sort dates based on the number of failures\n",
    "# sorted_dates_by_failure = failure_counts_by_date.sort_values(by='Failure Count', ascending=False)\n",
    "\n",
    "# print(sorted_dates_by_failure)"
   ]
  },
  {
   "cell_type": "code",
   "execution_count": null,
   "metadata": {},
   "outputs": [],
   "source": []
  },
  {
   "cell_type": "code",
   "execution_count": 52,
   "metadata": {},
   "outputs": [
    {
     "name": "stdout",
     "output_type": "stream",
     "text": [
      "No aggregators meet the minimum volume threshold for Bank 2 and Merchant 1.\n"
     ]
    }
   ],
   "source": [
    "import pandas as pd\n",
    "\n",
    "# Assuming 'df' is your DataFrame containing the transactions data\n",
    "\n",
    "# Filter transactions involving bank 2 and merchant 1\n",
    "filtered_df = df[(df['Bank'] == 'Bank 2') & (df['Merchant'] == 'Merchant 1')]\n",
    "\n",
    "# Calculate transaction volume for each aggregator\n",
    "aggregator_volume = filtered_df['Aggregator'].value_counts()\n",
    "\n",
    "# Filter aggregators with volume >= 1000\n",
    "aggregators_above_min_volume = aggregator_volume[aggregator_volume >= 1000].index.tolist()\n",
    "\n",
    "if len(aggregators_above_min_volume) == 0:\n",
    "    print(\"No aggregators meet the minimum volume threshold for Bank 2 and Merchant 1.\")\n",
    "else:\n",
    "    # Filter transactions involving aggregators above minimum volume\n",
    "    filtered_df = filtered_df[filtered_df['Aggregator'].isin(aggregators_above_min_volume)]\n",
    "\n",
    "    # Calculate success rate for each aggregator\n",
    "    success_rates = filtered_df.groupby('Aggregator')['Transaction Status'].apply(lambda x: (x == 'SUCCESS').mean())\n",
    "\n",
    "    # Check if there are any success rates\n",
    "    if len(success_rates) == 0:\n",
    "        print(\"No successful transactions found for Bank 2 and Merchant 1.\")\n",
    "    else:\n",
    "        # Identify the worst aggregator with the lowest success rate\n",
    "        worst_aggregator = success_rates.idxmin()\n",
    "        print(\"Worst Aggregator for Bank 2 and Merchant 1 with minimum volume of 1000 transactions:\", worst_aggregator)\n"
   ]
  },
  {
   "cell_type": "code",
   "execution_count": 53,
   "metadata": {},
   "outputs": [
    {
     "name": "stdout",
     "output_type": "stream",
     "text": [
      "True\n"
     ]
    }
   ],
   "source": [
    "import pandas as pd\n",
    "\n",
    "# Assuming 'df' is your DataFrame containing the transactions data\n",
    "\n",
    "# Filter transactions beyond 43000 transactions\n",
    "filtered_df = df[df['Total Transactions'] > 43000]\n",
    "\n",
    "# Calculate success rate for each volume level\n",
    "success_rate_by_volume = filtered_df.groupby('Total Transactions')['Transaction Status'].apply(lambda x: (x == 'SUCCESS').mean())\n",
    "\n",
    "# Check if success rate consistently decreases with an increase in volume\n",
    "success_rate_decreasing = all(success_rate_by_volume.diff().dropna() <= 0)\n",
    "\n",
    "print(\"True\" if success_rate_decreasing else \"False\")\n"
   ]
  },
  {
   "cell_type": "code",
   "execution_count": 54,
   "metadata": {},
   "outputs": [
    {
     "ename": "IndexingError",
     "evalue": "Unalignable boolean Series provided as indexer (index of the boolean Series and of the indexed object do not match).",
     "output_type": "error",
     "traceback": [
      "\u001b[1;31m---------------------------------------------------------------------------\u001b[0m",
      "\u001b[1;31mIndexingError\u001b[0m                             Traceback (most recent call last)",
      "Cell \u001b[1;32mIn[54], line 12\u001b[0m\n\u001b[0;32m      9\u001b[0m success_rate_by_date \u001b[38;5;241m=\u001b[39m filtered_df\u001b[38;5;241m.\u001b[39mgroupby(\u001b[38;5;124m'\u001b[39m\u001b[38;5;124mDate\u001b[39m\u001b[38;5;124m'\u001b[39m)[\u001b[38;5;124m'\u001b[39m\u001b[38;5;124mTransaction Status\u001b[39m\u001b[38;5;124m'\u001b[39m]\u001b[38;5;241m.\u001b[39mapply(\u001b[38;5;28;01mlambda\u001b[39;00m x: (x \u001b[38;5;241m==\u001b[39m \u001b[38;5;124m'\u001b[39m\u001b[38;5;124mSUCCESS\u001b[39m\u001b[38;5;124m'\u001b[39m)\u001b[38;5;241m.\u001b[39mmean())\n\u001b[0;32m     11\u001b[0m \u001b[38;5;66;03m# Filter out dates with fewer than 500 transactions\u001b[39;00m\n\u001b[1;32m---> 12\u001b[0m success_rate_by_date \u001b[38;5;241m=\u001b[39m \u001b[43msuccess_rate_by_date\u001b[49m\u001b[43m[\u001b[49m\u001b[43mfiltered_df\u001b[49m\u001b[38;5;241;43m.\u001b[39;49m\u001b[43mgroupby\u001b[49m\u001b[43m(\u001b[49m\u001b[38;5;124;43m'\u001b[39;49m\u001b[38;5;124;43mDate\u001b[39;49m\u001b[38;5;124;43m'\u001b[39;49m\u001b[43m)\u001b[49m\u001b[43m[\u001b[49m\u001b[38;5;124;43m'\u001b[39;49m\u001b[38;5;124;43mTotal Transactions\u001b[39;49m\u001b[38;5;124;43m'\u001b[39;49m\u001b[43m]\u001b[49m\u001b[38;5;241;43m.\u001b[39;49m\u001b[43mtransform\u001b[49m\u001b[43m(\u001b[49m\u001b[38;5;124;43m'\u001b[39;49m\u001b[38;5;124;43msum\u001b[39;49m\u001b[38;5;124;43m'\u001b[39;49m\u001b[43m)\u001b[49m\u001b[43m \u001b[49m\u001b[38;5;241;43m>\u001b[39;49m\u001b[38;5;241;43m=\u001b[39;49m\u001b[43m \u001b[49m\u001b[38;5;241;43m500\u001b[39;49m\u001b[43m]\u001b[49m\n\u001b[0;32m     14\u001b[0m \u001b[38;5;66;03m# Find the date with the highest success rate\u001b[39;00m\n\u001b[0;32m     15\u001b[0m best_date \u001b[38;5;241m=\u001b[39m success_rate_by_date\u001b[38;5;241m.\u001b[39midxmax()\n",
      "File \u001b[1;32mc:\\Users\\vishn\\AppData\\Local\\Programs\\Python\\Python311\\Lib\\site-packages\\pandas\\core\\series.py:1068\u001b[0m, in \u001b[0;36mSeries.__getitem__\u001b[1;34m(self, key)\u001b[0m\n\u001b[0;32m   1065\u001b[0m     \u001b[38;5;28;01mreturn\u001b[39;00m \u001b[38;5;28mself\u001b[39m\u001b[38;5;241m.\u001b[39m_getitem_slice(key)\n\u001b[0;32m   1067\u001b[0m \u001b[38;5;28;01mif\u001b[39;00m com\u001b[38;5;241m.\u001b[39mis_bool_indexer(key):\n\u001b[1;32m-> 1068\u001b[0m     key \u001b[38;5;241m=\u001b[39m \u001b[43mcheck_bool_indexer\u001b[49m\u001b[43m(\u001b[49m\u001b[38;5;28;43mself\u001b[39;49m\u001b[38;5;241;43m.\u001b[39;49m\u001b[43mindex\u001b[49m\u001b[43m,\u001b[49m\u001b[43m \u001b[49m\u001b[43mkey\u001b[49m\u001b[43m)\u001b[49m\n\u001b[0;32m   1069\u001b[0m     key \u001b[38;5;241m=\u001b[39m np\u001b[38;5;241m.\u001b[39masarray(key, dtype\u001b[38;5;241m=\u001b[39m\u001b[38;5;28mbool\u001b[39m)\n\u001b[0;32m   1070\u001b[0m     \u001b[38;5;28;01mreturn\u001b[39;00m \u001b[38;5;28mself\u001b[39m\u001b[38;5;241m.\u001b[39m_get_rows_with_mask(key)\n",
      "File \u001b[1;32mc:\\Users\\vishn\\AppData\\Local\\Programs\\Python\\Python311\\Lib\\site-packages\\pandas\\core\\indexing.py:2575\u001b[0m, in \u001b[0;36mcheck_bool_indexer\u001b[1;34m(index, key)\u001b[0m\n\u001b[0;32m   2573\u001b[0m indexer \u001b[38;5;241m=\u001b[39m result\u001b[38;5;241m.\u001b[39mindex\u001b[38;5;241m.\u001b[39mget_indexer_for(index)\n\u001b[0;32m   2574\u001b[0m \u001b[38;5;28;01mif\u001b[39;00m \u001b[38;5;241m-\u001b[39m\u001b[38;5;241m1\u001b[39m \u001b[38;5;129;01min\u001b[39;00m indexer:\n\u001b[1;32m-> 2575\u001b[0m     \u001b[38;5;28;01mraise\u001b[39;00m IndexingError(\n\u001b[0;32m   2576\u001b[0m         \u001b[38;5;124m\"\u001b[39m\u001b[38;5;124mUnalignable boolean Series provided as \u001b[39m\u001b[38;5;124m\"\u001b[39m\n\u001b[0;32m   2577\u001b[0m         \u001b[38;5;124m\"\u001b[39m\u001b[38;5;124mindexer (index of the boolean Series and of \u001b[39m\u001b[38;5;124m\"\u001b[39m\n\u001b[0;32m   2578\u001b[0m         \u001b[38;5;124m\"\u001b[39m\u001b[38;5;124mthe indexed object do not match).\u001b[39m\u001b[38;5;124m\"\u001b[39m\n\u001b[0;32m   2579\u001b[0m     )\n\u001b[0;32m   2581\u001b[0m result \u001b[38;5;241m=\u001b[39m result\u001b[38;5;241m.\u001b[39mtake(indexer)\n\u001b[0;32m   2583\u001b[0m \u001b[38;5;66;03m# fall through for boolean\u001b[39;00m\n",
      "\u001b[1;31mIndexingError\u001b[0m: Unalignable boolean Series provided as indexer (index of the boolean Series and of the indexed object do not match)."
     ]
    }
   ],
   "source": [
    "import pandas as pd\n",
    "\n",
    "# Assuming 'df' is your DataFrame containing the transactions data\n",
    "\n",
    "# Filter data for Bank 1, Aggregator 3, and Merchant 2\n",
    "filtered_df = df[(df['Bank'] == 'Bank 1') & (df['Aggregator'] == 'Agg3') & (df['Merchant'] == 'Merchant 2')]\n",
    "\n",
    "# Group data by date and calculate success rate\n",
    "success_rate_by_date = filtered_df.groupby('Date')['Transaction Status'].apply(lambda x: (x == 'SUCCESS').mean())\n",
    "\n",
    "# Filter out dates with fewer than 500 transactions\n",
    "success_rate_by_date = success_rate_by_date[filtered_df.groupby('Date')['Total Transactions'].transform('sum') >= 500]\n",
    "\n",
    "# Find the date with the highest success rate\n",
    "best_date = success_rate_by_date.idxmax()\n",
    "best_success_rate = success_rate_by_date.max()\n",
    "\n",
    "print(\"Best date with highest success rate for Bank 1 through Aggregator 3 for Merchant 2 (minimum 500 transactions):\")\n",
    "print(\"Date:\", best_date)\n",
    "print(\"Success Rate:\", best_success_rate)\n"
   ]
  },
  {
   "cell_type": "code",
   "execution_count": 55,
   "metadata": {},
   "outputs": [
    {
     "ename": "ValueError",
     "evalue": "attempt to get argmax of an empty sequence",
     "output_type": "error",
     "traceback": [
      "\u001b[1;31m---------------------------------------------------------------------------\u001b[0m",
      "\u001b[1;31mValueError\u001b[0m                                Traceback (most recent call last)",
      "Cell \u001b[1;32mIn[55], line 16\u001b[0m\n\u001b[0;32m     13\u001b[0m success_rate_by_date \u001b[38;5;241m=\u001b[39m success_rate_by_date\u001b[38;5;241m.\u001b[39mloc[valid_dates]\n\u001b[0;32m     15\u001b[0m \u001b[38;5;66;03m# Find the date with the highest success rate\u001b[39;00m\n\u001b[1;32m---> 16\u001b[0m best_date \u001b[38;5;241m=\u001b[39m \u001b[43msuccess_rate_by_date\u001b[49m\u001b[38;5;241;43m.\u001b[39;49m\u001b[43midxmax\u001b[49m\u001b[43m(\u001b[49m\u001b[43m)\u001b[49m\n\u001b[0;32m     17\u001b[0m best_success_rate \u001b[38;5;241m=\u001b[39m success_rate_by_date\u001b[38;5;241m.\u001b[39mmax()\n\u001b[0;32m     19\u001b[0m \u001b[38;5;28mprint\u001b[39m(\u001b[38;5;124m\"\u001b[39m\u001b[38;5;124mBest date with highest success rate for Bank 1 through Aggregator 3 for Merchant 2 (minimum 500 transactions):\u001b[39m\u001b[38;5;124m\"\u001b[39m)\n",
      "File \u001b[1;32mc:\\Users\\vishn\\AppData\\Local\\Programs\\Python\\Python311\\Lib\\site-packages\\pandas\\core\\series.py:2641\u001b[0m, in \u001b[0;36mSeries.idxmax\u001b[1;34m(self, axis, skipna, *args, **kwargs)\u001b[0m\n\u001b[0;32m   2636\u001b[0m \u001b[38;5;28;01mwith\u001b[39;00m warnings\u001b[38;5;241m.\u001b[39mcatch_warnings():\n\u001b[0;32m   2637\u001b[0m     \u001b[38;5;66;03m# TODO(3.0): this catching/filtering can be removed\u001b[39;00m\n\u001b[0;32m   2638\u001b[0m     \u001b[38;5;66;03m# ignore warning produced by argmax since we will issue a different\u001b[39;00m\n\u001b[0;32m   2639\u001b[0m     \u001b[38;5;66;03m#  warning for argmax\u001b[39;00m\n\u001b[0;32m   2640\u001b[0m     warnings\u001b[38;5;241m.\u001b[39msimplefilter(\u001b[38;5;124m\"\u001b[39m\u001b[38;5;124mignore\u001b[39m\u001b[38;5;124m\"\u001b[39m)\n\u001b[1;32m-> 2641\u001b[0m     i \u001b[38;5;241m=\u001b[39m \u001b[38;5;28;43mself\u001b[39;49m\u001b[38;5;241;43m.\u001b[39;49m\u001b[43margmax\u001b[49m\u001b[43m(\u001b[49m\u001b[43maxis\u001b[49m\u001b[43m,\u001b[49m\u001b[43m \u001b[49m\u001b[43mskipna\u001b[49m\u001b[43m,\u001b[49m\u001b[43m \u001b[49m\u001b[38;5;241;43m*\u001b[39;49m\u001b[43margs\u001b[49m\u001b[43m,\u001b[49m\u001b[43m \u001b[49m\u001b[38;5;241;43m*\u001b[39;49m\u001b[38;5;241;43m*\u001b[39;49m\u001b[43mkwargs\u001b[49m\u001b[43m)\u001b[49m\n\u001b[0;32m   2643\u001b[0m \u001b[38;5;28;01mif\u001b[39;00m i \u001b[38;5;241m==\u001b[39m \u001b[38;5;241m-\u001b[39m\u001b[38;5;241m1\u001b[39m:\n\u001b[0;32m   2644\u001b[0m     \u001b[38;5;66;03m# GH#43587 give correct NA value for Index.\u001b[39;00m\n\u001b[0;32m   2645\u001b[0m     warnings\u001b[38;5;241m.\u001b[39mwarn(\n\u001b[0;32m   2646\u001b[0m         \u001b[38;5;124mf\u001b[39m\u001b[38;5;124m\"\u001b[39m\u001b[38;5;124mThe behavior of \u001b[39m\u001b[38;5;132;01m{\u001b[39;00m\u001b[38;5;28mtype\u001b[39m(\u001b[38;5;28mself\u001b[39m)\u001b[38;5;241m.\u001b[39m\u001b[38;5;18m__name__\u001b[39m\u001b[38;5;132;01m}\u001b[39;00m\u001b[38;5;124m.idxmax with all-NA \u001b[39m\u001b[38;5;124m\"\u001b[39m\n\u001b[0;32m   2647\u001b[0m         \u001b[38;5;124m\"\u001b[39m\u001b[38;5;124mvalues, or any-NA and skipna=False, is deprecated. In a future \u001b[39m\u001b[38;5;124m\"\u001b[39m\n\u001b[1;32m   (...)\u001b[0m\n\u001b[0;32m   2650\u001b[0m         stacklevel\u001b[38;5;241m=\u001b[39mfind_stack_level(),\n\u001b[0;32m   2651\u001b[0m     )\n",
      "File \u001b[1;32mc:\\Users\\vishn\\AppData\\Local\\Programs\\Python\\Python311\\Lib\\site-packages\\pandas\\core\\base.py:751\u001b[0m, in \u001b[0;36mIndexOpsMixin.argmax\u001b[1;34m(self, axis, skipna, *args, **kwargs)\u001b[0m\n\u001b[0;32m    749\u001b[0m         \u001b[38;5;28;01mreturn\u001b[39;00m delegate\u001b[38;5;241m.\u001b[39margmax()\n\u001b[0;32m    750\u001b[0m \u001b[38;5;28;01melse\u001b[39;00m:\n\u001b[1;32m--> 751\u001b[0m     result \u001b[38;5;241m=\u001b[39m \u001b[43mnanops\u001b[49m\u001b[38;5;241;43m.\u001b[39;49m\u001b[43mnanargmax\u001b[49m\u001b[43m(\u001b[49m\u001b[43mdelegate\u001b[49m\u001b[43m,\u001b[49m\u001b[43m \u001b[49m\u001b[43mskipna\u001b[49m\u001b[38;5;241;43m=\u001b[39;49m\u001b[43mskipna\u001b[49m\u001b[43m)\u001b[49m\n\u001b[0;32m    752\u001b[0m     \u001b[38;5;28;01mif\u001b[39;00m result \u001b[38;5;241m==\u001b[39m \u001b[38;5;241m-\u001b[39m\u001b[38;5;241m1\u001b[39m:\n\u001b[0;32m    753\u001b[0m         warnings\u001b[38;5;241m.\u001b[39mwarn(\n\u001b[0;32m    754\u001b[0m             \u001b[38;5;124mf\u001b[39m\u001b[38;5;124m\"\u001b[39m\u001b[38;5;124mThe behavior of \u001b[39m\u001b[38;5;132;01m{\u001b[39;00m\u001b[38;5;28mtype\u001b[39m(\u001b[38;5;28mself\u001b[39m)\u001b[38;5;241m.\u001b[39m\u001b[38;5;18m__name__\u001b[39m\u001b[38;5;132;01m}\u001b[39;00m\u001b[38;5;124m.argmax/argmin \u001b[39m\u001b[38;5;124m\"\u001b[39m\n\u001b[0;32m    755\u001b[0m             \u001b[38;5;124m\"\u001b[39m\u001b[38;5;124mwith skipna=False and NAs, or with all-NAs is deprecated. \u001b[39m\u001b[38;5;124m\"\u001b[39m\n\u001b[1;32m   (...)\u001b[0m\n\u001b[0;32m    758\u001b[0m             stacklevel\u001b[38;5;241m=\u001b[39mfind_stack_level(),\n\u001b[0;32m    759\u001b[0m         )\n",
      "File \u001b[1;32mc:\\Users\\vishn\\AppData\\Local\\Programs\\Python\\Python311\\Lib\\site-packages\\pandas\\core\\nanops.py:1143\u001b[0m, in \u001b[0;36mnanargmax\u001b[1;34m(values, axis, skipna, mask)\u001b[0m\n\u001b[0;32m   1141\u001b[0m values, mask \u001b[38;5;241m=\u001b[39m _get_values(values, \u001b[38;5;28;01mTrue\u001b[39;00m, fill_value_typ\u001b[38;5;241m=\u001b[39m\u001b[38;5;124m\"\u001b[39m\u001b[38;5;124m-inf\u001b[39m\u001b[38;5;124m\"\u001b[39m, mask\u001b[38;5;241m=\u001b[39mmask)\n\u001b[0;32m   1142\u001b[0m \u001b[38;5;66;03m# error: Need type annotation for 'result'\u001b[39;00m\n\u001b[1;32m-> 1143\u001b[0m result \u001b[38;5;241m=\u001b[39m values\u001b[38;5;241m.\u001b[39margmax(axis)  \u001b[38;5;66;03m# type: ignore[var-annotated]\u001b[39;00m\n\u001b[0;32m   1144\u001b[0m result \u001b[38;5;241m=\u001b[39m _maybe_arg_null_out(result, axis, mask, skipna)\n\u001b[0;32m   1145\u001b[0m \u001b[38;5;28;01mreturn\u001b[39;00m result\n",
      "\u001b[1;31mValueError\u001b[0m: attempt to get argmax of an empty sequence"
     ]
    }
   ],
   "source": [
    "import pandas as pd\n",
    "\n",
    "# Assuming 'df' is your DataFrame containing the transactions data\n",
    "\n",
    "# Filter data for Bank 1, Aggregator 3, and Merchant 2\n",
    "filtered_df = df[(df['Bank'] == 'Bank 1') & (df['Aggregator'] == 'Agg3') & (df['Merchant'] == 'Merchant 2')]\n",
    "\n",
    "# Group data by date and calculate success rate\n",
    "success_rate_by_date = filtered_df.groupby('Date')['Transaction Status'].apply(lambda x: (x == 'SUCCESS').mean())\n",
    "\n",
    "# Filter out dates with fewer than 500 transactions\n",
    "valid_dates = filtered_df['Date'].value_counts()[filtered_df['Date'].value_counts() >= 500].index\n",
    "success_rate_by_date = success_rate_by_date.loc[valid_dates]\n",
    "\n",
    "# Find the date with the highest success rate\n",
    "best_date = success_rate_by_date.idxmax()\n",
    "best_success_rate = success_rate_by_date.max()\n",
    "\n",
    "print(\"Best date with highest success rate for Bank 1 through Aggregator 3 for Merchant 2 (minimum 500 transactions):\")\n",
    "print(\"Date:\", best_date)\n",
    "print(\"Success Rate:\", best_success_rate)\n"
   ]
  },
  {
   "cell_type": "code",
   "execution_count": 69,
   "metadata": {},
   "outputs": [
    {
     "ename": "SyntaxError",
     "evalue": "incomplete input (463370588.py, line 20)",
     "output_type": "error",
     "traceback": [
      "\u001b[1;36m  Cell \u001b[1;32mIn[69], line 20\u001b[1;36m\u001b[0m\n\u001b[1;33m    print(\"Overall Success Rate:\", overall_success_rate\u001b[0m\n\u001b[1;37m                                                       ^\u001b[0m\n\u001b[1;31mSyntaxError\u001b[0m\u001b[1;31m:\u001b[0m incomplete input\n"
     ]
    }
   ],
   "source": [
    "import pandas as pd\n",
    "\n",
    "# Assuming df is your DataFrame containing the transaction data\n",
    "\n",
    "# Drop rows with null values in Transaction Status and Aggregator columns\n",
    "df_cleaned = df.dropna(subset=['Transaction Status', 'Aggregator'])\n",
    "\n",
    "# Filter successful transactions\n",
    "successful_transactions = df_cleaned[df_cleaned['Transaction Status'] == 'SUCCESS']\n",
    "\n",
    "# Calculate the total number of successful transactions\n",
    "total_successful_transactions = successful_transactions['Total Transactions'].sum()\n",
    "\n",
    "# Calculate the total number of all transactions\n",
    "total_transactions = df_cleaned['Total Transactions'].sum()\n",
    "\n",
    "# Calculate the overall success rate\n",
    "overall_success_rate = total_successful_transactions / total_transactions\n",
    "\n",
    "print(\"Overall Success Rate:\", overall_success_rate\n"
   ]
  },
  {
   "cell_type": "code",
   "execution_count": 68,
   "metadata": {},
   "outputs": [
    {
     "name": "stdout",
     "output_type": "stream",
     "text": [
      "Overall Success Rate: 0.7862555234737665\n"
     ]
    }
   ],
   "source": [
    "df_cleaned = df.dropna(subset=['Transaction Status', 'Aggregator'])\n",
    "\n",
    "# Filter successful transactions\n",
    "successful_transactions = df_cleaned[df_cleaned['Transaction Status'] == 'SUCCESS']\n",
    "\n",
    "# Calculate the total number of successful transactions\n",
    "total_successful_transactions = successful_transactions['Total Transactions'].sum()\n",
    "\n",
    "# Calculate the total number of all transactions\n",
    "total_transactions = df_cleaned['Total Transactions'].sum()\n",
    "\n",
    "# Calculate the overall success rate\n",
    "overall_success_rate = total_successful_transactions / total_transactions\n",
    "\n",
    "print(\"Overall Success Rate:\", overall_success_rate)"
   ]
  },
  {
   "cell_type": "code",
   "execution_count": null,
   "metadata": {},
   "outputs": [],
   "source": []
  }
 ],
 "metadata": {
  "kernelspec": {
   "display_name": "Python 3",
   "language": "python",
   "name": "python3"
  },
  "language_info": {
   "codemirror_mode": {
    "name": "ipython",
    "version": 3
   },
   "file_extension": ".py",
   "mimetype": "text/x-python",
   "name": "python",
   "nbconvert_exporter": "python",
   "pygments_lexer": "ipython3",
   "version": "3.11.5"
  }
 },
 "nbformat": 4,
 "nbformat_minor": 2
}

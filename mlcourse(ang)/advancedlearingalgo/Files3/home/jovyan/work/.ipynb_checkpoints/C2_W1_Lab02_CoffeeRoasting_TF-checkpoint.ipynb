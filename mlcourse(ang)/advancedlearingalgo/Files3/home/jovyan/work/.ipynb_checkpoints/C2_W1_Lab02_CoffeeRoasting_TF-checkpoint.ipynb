{
 "cells": [
  {
   "cell_type": "markdown",
   "metadata": {
    "tags": []
   },
   "source": [
    "# Optional Lab - Simple Neural Network\n",
    "In this lab we will build a small neural network using Tensorflow.\n",
    "   <center> <img  src=\"./images/C2_W1_CoffeeRoasting.png\" width=\"400\" />   <center/>\n"
   ]
  },
  {
   "cell_type": "code",
   "execution_count": 1,
   "metadata": {},
   "outputs": [],
   "source": [
    "import numpy as np\n",
    "import matplotlib.pyplot as plt\n",
    "plt.style.use('./deeplearning.mplstyle')\n",
    "import tensorflow as tf\n",
    "from tensorflow.keras.models import Sequential\n",
    "from tensorflow.keras.layers import Dense\n",
    "from lab_utils_common import dlc\n",
    "from lab_coffee_utils import load_coffee_data, plt_roast, plt_prob, plt_layer, plt_network, plt_output_unit\n",
    "import logging\n",
    "logging.getLogger(\"tensorflow\").setLevel(logging.ERROR)\n",
    "tf.autograph.set_verbosity(0)\n"
   ]
  },
  {
   "cell_type": "markdown",
   "metadata": {},
   "source": [
    "## DataSet"
   ]
  },
  {
   "cell_type": "code",
   "execution_count": 2,
   "metadata": {},
   "outputs": [
    {
     "name": "stdout",
     "output_type": "stream",
     "text": [
      "(200, 2) (200, 1)\n"
     ]
    }
   ],
   "source": [
    "X,Y = load_coffee_data();\n",
    "print(X.shape, Y.shape)"
   ]
  },
  {
   "cell_type": "markdown",
   "metadata": {},
   "source": [
    "Let's plot the coffee roasting data below. The two features are Temperature in Celsius and Duration in minutes. [Coffee Roasting at Home](https://www.merchantsofgreencoffee.com/how-to-roast-green-coffee-in-your-oven/) suggests that the duration is best kept between 12 and 15 minutes while the temp should be between 175 and 260 degrees Celsius. Of course, as temperature rises, the duration should shrink. "
   ]
  },
  {
   "cell_type": "code",
   "execution_count": null,
   "metadata": {},
   "outputs": [],
   "source": [
    "plt_roast(X,Y)"
   ]
  },
  {
   "cell_type": "markdown",
   "metadata": {},
   "source": [
    "### Normalize Data\n",
    "Fitting the weights to the data (back-propagation, covered in next week's lectures) will proceed more quickly if the data is normalized. This is the same procedure you used in Course 1 where features in the data are each normalized to have a similar range. \n",
    "The procedure below uses a Keras [normalization layer](https://keras.io/api/layers/preprocessing_layers/numerical/normalization/). It has the following steps:\n",
    "- create a \"Normalization Layer\". Note, as applied here, this is not a layer in your model.\n",
    "- 'adapt' the data. This learns the mean and variance of the data set and saves the values internally.\n",
    "- normalize the data.  \n",
    "It is important to apply normalization to any future data that utilizes the learned model."
   ]
  },
  {
   "cell_type": "code",
   "execution_count": 4,
   "metadata": {},
   "outputs": [
    {
     "name": "stdout",
     "output_type": "stream",
     "text": [
      "Temperature Max, Min pre normalization: 284.99, 151.32\n",
      "Duration    Max, Min pre normalization: 15.45, 11.51\n",
      "[[185.32  12.69]\n",
      " [259.92  11.87]\n",
      " [231.01  14.41]\n",
      " [175.37  11.72]\n",
      " [187.12  14.13]\n",
      " [225.91  12.1 ]\n",
      " [208.41  14.18]\n",
      " [207.08  14.03]\n",
      " [280.6   14.23]\n",
      " [202.87  12.25]\n",
      " [196.7   13.54]\n",
      " [270.31  14.6 ]\n",
      " [192.95  15.2 ]\n",
      " [213.57  14.28]\n",
      " [164.47  11.92]\n",
      " [177.26  15.04]\n",
      " [241.77  14.9 ]\n",
      " [237.    13.13]\n",
      " [219.74  13.87]\n",
      " [266.39  13.25]\n",
      " [270.45  13.95]\n",
      " [261.96  13.49]\n",
      " [243.49  12.86]\n",
      " [220.58  12.36]\n",
      " [163.59  11.65]\n",
      " [244.76  13.33]\n",
      " [271.19  14.84]\n",
      " [201.99  15.39]\n",
      " [229.93  14.56]\n",
      " [204.97  12.28]\n",
      " [173.19  12.22]\n",
      " [231.51  11.95]\n",
      " [152.69  14.83]\n",
      " [163.42  13.3 ]\n",
      " [215.95  13.98]\n",
      " [218.04  15.25]\n",
      " [251.3   13.8 ]\n",
      " [233.33  13.53]\n",
      " [280.24  12.41]\n",
      " [243.02  13.72]\n",
      " [155.67  12.68]\n",
      " [275.17  14.64]\n",
      " [151.73  12.69]\n",
      " [151.32  14.81]\n",
      " [164.9   11.73]\n",
      " [282.55  13.28]\n",
      " [192.98  11.7 ]\n",
      " [202.6   12.96]\n",
      " [220.67  11.53]\n",
      " [169.97  12.34]\n",
      " [209.47  12.71]\n",
      " [232.8   12.64]\n",
      " [272.8   15.35]\n",
      " [158.02  12.34]\n",
      " [226.01  14.58]\n",
      " [158.64  12.24]\n",
      " [211.66  14.17]\n",
      " [271.95  14.97]\n",
      " [257.16  11.71]\n",
      " [281.85  13.96]\n",
      " [161.63  12.52]\n",
      " [233.8   13.04]\n",
      " [210.29  14.72]\n",
      " [261.24  13.69]\n",
      " [256.98  13.12]\n",
      " [281.56  13.92]\n",
      " [280.64  11.68]\n",
      " [269.16  13.74]\n",
      " [246.34  12.27]\n",
      " [224.07  12.66]\n",
      " [164.24  11.51]\n",
      " [272.42  14.18]\n",
      " [177.68  12.53]\n",
      " [212.86  14.77]\n",
      " [165.88  15.37]\n",
      " [277.43  12.48]\n",
      " [236.51  12.94]\n",
      " [244.14  11.85]\n",
      " [213.45  13.85]\n",
      " [234.57  14.27]\n",
      " [270.34  12.47]\n",
      " [170.68  13.06]\n",
      " [226.79  15.34]\n",
      " [245.92  14.45]\n",
      " [281.32  12.57]\n",
      " [185.03  13.19]\n",
      " [189.88  14.1 ]\n",
      " [278.48  12.11]\n",
      " [219.92  14.21]\n",
      " [216.58  15.15]\n",
      " [249.48  15.03]\n",
      " [165.09  12.28]\n",
      " [158.87  14.82]\n",
      " [279.98  11.56]\n",
      " [256.55  14.41]\n",
      " [272.61  12.58]\n",
      " [246.49  12.45]\n",
      " [160.26  14.48]\n",
      " [155.7   14.3 ]\n",
      " [188.27  13.45]\n",
      " [270.36  12.47]\n",
      " [213.22  12.92]\n",
      " [175.7   13.39]\n",
      " [174.52  14.7 ]\n",
      " [233.    12.63]\n",
      " [281.37  12.88]\n",
      " [240.62  14.43]\n",
      " [185.81  11.55]\n",
      " [270.5   15.33]\n",
      " [172.98  12.11]\n",
      " [208.41  13.89]\n",
      " [283.51  15.35]\n",
      " [283.36  12.48]\n",
      " [230.85  13.24]\n",
      " [181.24  11.76]\n",
      " [172.78  12.93]\n",
      " [161.88  12.1 ]\n",
      " [156.03  13.99]\n",
      " [216.52  12.47]\n",
      " [221.06  13.2 ]\n",
      " [238.99  15.23]\n",
      " [197.69  14.08]\n",
      " [179.55  15.26]\n",
      " [233.39  12.13]\n",
      " [184.7   12.14]\n",
      " [174.18  12.73]\n",
      " [261.11  13.33]\n",
      " [187.42  13.18]\n",
      " [186.1   14.43]\n",
      " [157.94  12.66]\n",
      " [193.64  12.23]\n",
      " [249.65  12.22]\n",
      " [190.56  11.73]\n",
      " [252.    12.96]\n",
      " [238.55  12.37]\n",
      " [152.94  12.79]\n",
      " [255.17  14.85]\n",
      " [197.09  14.89]\n",
      " [156.8   13.59]\n",
      " [184.75  13.26]\n",
      " [179.92  15.07]\n",
      " [190.79  15.28]\n",
      " [164.73  13.22]\n",
      " [209.87  14.34]\n",
      " [196.58  13.47]\n",
      " [159.51  12.74]\n",
      " [247.87  11.92]\n",
      " [212.44  12.45]\n",
      " [172.34  11.99]\n",
      " [259.87  14.25]\n",
      " [201.23  13.07]\n",
      " [248.34  13.92]\n",
      " [273.66  15.18]\n",
      " [215.09  14.14]\n",
      " [223.53  12.74]\n",
      " [211.22  14.38]\n",
      " [224.61  14.03]\n",
      " [215.75  15.31]\n",
      " [254.82  12.02]\n",
      " [259.9   15.17]\n",
      " [260.25  12.87]\n",
      " [199.67  12.47]\n",
      " [157.52  13.39]\n",
      " [264.81  14.58]\n",
      " [239.4   14.89]\n",
      " [238.98  12.39]\n",
      " [258.43  12.97]\n",
      " [270.16  12.81]\n",
      " [162.41  14.42]\n",
      " [164.53  14.98]\n",
      " [205.61  14.62]\n",
      " [157.1   13.68]\n",
      " [241.38  12.02]\n",
      " [232.13  12.07]\n",
      " [191.04  12.96]\n",
      " [233.64  12.02]\n",
      " [174.95  14.63]\n",
      " [246.64  13.32]\n",
      " [188.07  14.27]\n",
      " [213.16  12.75]\n",
      " [268.08  12.31]\n",
      " [258.58  13.97]\n",
      " [237.21  14.23]\n",
      " [251.02  15.02]\n",
      " [274.28  12.52]\n",
      " [172.12  15.09]\n",
      " [177.52  12.39]\n",
      " [258.71  15.36]\n",
      " [264.01  13.57]\n",
      " [200.71  15.45]\n",
      " [249.37  14.02]\n",
      " [151.5   12.28]\n",
      " [151.82  15.13]\n",
      " [181.92  12.18]\n",
      " [228.65  12.31]\n",
      " [223.78  15.3 ]\n",
      " [266.63  12.48]\n",
      " [273.68  13.1 ]\n",
      " [220.61  12.8 ]\n",
      " [284.99  12.73]]\n",
      "Temperature Max, Min post normalization: 1.66, -1.69\n",
      "Duration    Max, Min post normalization: 1.79, -1.70\n"
     ]
    }
   ],
   "source": [
    "print(f\"Temperature Max, Min pre normalization: {np.max(X[:,0]):0.2f}, {np.min(X[:,0]):0.2f}\")\n",
    "print(f\"Duration    Max, Min pre normalization: {np.max(X[:,1]):0.2f}, {np.min(X[:,1]):0.2f}\")\n",
    "print(X)\n",
    "norm_l = tf.keras.layers.Normalization(axis=-1)\n",
    "norm_l.adapt(X)  # learns mean, variance\n",
    "Xn = norm_l(X)\n",
    "print(f\"Temperature Max, Min post normalization: {np.max(Xn[:,0]):0.2f}, {np.min(Xn[:,0]):0.2f}\")\n",
    "print(f\"Duration    Max, Min post normalization: {np.max(Xn[:,1]):0.2f}, {np.min(Xn[:,1]):0.2f}\")"
   ]
  },
  {
   "cell_type": "markdown",
   "metadata": {},
   "source": [
    "Tile/copy our data to increase the training set size and reduce the number of training epochs."
   ]
  },
  {
   "cell_type": "code",
   "execution_count": null,
   "metadata": {},
   "outputs": [],
   "source": [
    "Xt = np.tile(Xn,(1000,1))\n",
    "print(Xt)\n",
    "Yt= np.tile(Y,(1000,1))   \n",
    "print(Xt.shape, Yt.shape)   "
   ]
  },
  {
   "cell_type": "markdown",
   "metadata": {},
   "source": [
    "## Tensorflow Model"
   ]
  },
  {
   "cell_type": "markdown",
   "metadata": {},
   "source": [
    "### Model\n",
    "   <center> <img  src=\"./images/C2_W1_RoastingNetwork.PNG\" width=\"200\" />   <center/>  \n",
    "Let's build the \"Coffee Roasting Network\" described in lecture. There are two layers with sigmoid activations as shown below:"
   ]
  },
  {
   "cell_type": "code",
   "execution_count": null,
   "metadata": {},
   "outputs": [],
   "source": [
    "tf.random.set_seed(1234)  # applied to achieve consistent results\n",
    "model = Sequential(\n",
    "    [\n",
    "        tf.keras.Input(shape=(2,)),\n",
    "        Dense(3, activation='sigmoid', name = 'layer1'),\n",
    "        Dense(1, activation='sigmoid', name = 'layer2')\n",
    "     ]\n",
    ")"
   ]
  },
  {
   "cell_type": "markdown",
   "metadata": {},
   "source": [
    ">**Note 1:** The `tf.keras.Input(shape=(2,)),` specifies the expected shape of the input. This allows Tensorflow to size the weights and bias parameters at this point.  This is useful when exploring Tensorflow models. This statement can be omitted in practice and Tensorflow will size the network parameters when the input data is specified in the `model.fit` statement.  \n",
    ">**Note 2:** Including the sigmoid activation in the final layer is not considered best practice. It would instead be accounted for in the loss which improves numerical stability. This will be described in more detail in a later lab.\n",
    "\n",
    "The `model.summary()` provides a description of the network:"
   ]
  },
  {
   "cell_type": "code",
   "execution_count": null,
   "metadata": {},
   "outputs": [],
   "source": [
    "model.summary()"
   ]
  },
  {
   "cell_type": "markdown",
   "metadata": {},
   "source": [
    "The parameter counts shown in the summary correspond to the number of elements in the weight and bias arrays as shown below."
   ]
  },
  {
   "cell_type": "code",
   "execution_count": null,
   "metadata": {},
   "outputs": [],
   "source": [
    "L1_num_params = 2 * 3 + 3   # W1 parameters  + b1 parameters\n",
    "L2_num_params = 3 * 1 + 1   # W2 parameters  + b2 parameters\n",
    "print(\"L1 params = \", L1_num_params, \", L2 params = \", L2_num_params  )"
   ]
  },
  {
   "cell_type": "markdown",
   "metadata": {},
   "source": [
    "Let's examine the weights and biases Tensorflow has instantiated.  The weights $W$ should be of size (number of features in input, number of units in the layer) while the bias $b$ size should match the number of units in the layer:\n",
    "- In the first layer with 3 units, we expect W to have a size of (2,3) and $b$ should have 3 elements.\n",
    "- In the second layer with 1 unit, we expect W to have a size of (3,1) and $b$ should have 1 element."
   ]
  },
  {
   "cell_type": "code",
   "execution_count": null,
   "metadata": {},
   "outputs": [],
   "source": [
    "W1, b1 = model.get_layer(\"layer1\").get_weights()\n",
    "W2, b2 = model.get_layer(\"layer2\").get_weights()\n",
    "print(f\"W1{W1.shape}:\\n\", W1, f\"\\nb1{b1.shape}:\", b1)\n",
    "print(f\"W2{W2.shape}:\\n\", W2, f\"\\nb2{b2.shape}:\", b2)"
   ]
  },
  {
   "cell_type": "markdown",
   "metadata": {},
   "source": [
    "The following statements will be described in detail in Week2. For now:\n",
    "- The `model.compile` statement defines a loss function and specifies a compile optimization.\n",
    "- The `model.fit` statement runs gradient descent and fits the weights to the data."
   ]
  },
  {
   "cell_type": "code",
   "execution_count": null,
   "metadata": {
    "scrolled": true,
    "tags": []
   },
   "outputs": [],
   "source": [
    "model.compile(\n",
    "    loss = tf.keras.losses.BinaryCrossentropy(),\n",
    "    optimizer = tf.keras.optimizers.Adam(learning_rate=0.01),\n",
    ")\n",
    "\n",
    "model.fit(\n",
    "    Xt,Yt,            \n",
    "    epochs=10,\n",
    ")"
   ]
  },
  {
   "cell_type": "markdown",
   "metadata": {},
   "source": [
    "#### Epochs and batches\n",
    "In the `compile` statement above, the number of `epochs` was set to 10. This specifies that the entire data set should be applied during training 10 times.  During training, you see output describing the progress of training that looks like this:\n",
    "```\n",
    "Epoch 1/10\n",
    "6250/6250 [==============================] - 6s 910us/step - loss: 0.1782\n",
    "```\n",
    "The first line, `Epoch 1/10`, describes which epoch the model is currently running. For efficiency, the training data set is broken into 'batches'. The default size of a batch in Tensorflow is 32. There are 200000 examples in our expanded data set or 6250 batches. The notation on the 2nd line `6250/6250 [====` is describing which batch has been executed."
   ]
  },
  {
   "cell_type": "markdown",
   "metadata": {},
   "source": [
    "#### Updated Weights\n",
    "After fitting, the weights have been updated: "
   ]
  },
  {
   "cell_type": "code",
   "execution_count": null,
   "metadata": {},
   "outputs": [],
   "source": [
    "W1, b1 = model.get_layer(\"layer1\").get_weights()\n",
    "W2, b2 = model.get_layer(\"layer2\").get_weights()\n",
    "print(\"W1:\\n\", W1, \"\\nb1:\", b1)\n",
    "print(\"W2:\\n\", W2, \"\\nb2:\", b2)"
   ]
  },
  {
   "cell_type": "markdown",
   "metadata": {},
   "source": [
    "Next, we will load some saved weights from a previous training run. This is so that this notebook remains robust to changes in Tensorflow over time. Different training runs can produce somewhat different results and the discussion below applies to a particular solution. Feel free to re-run the notebook with this cell commented out to see the difference."
   ]
  },
  {
   "cell_type": "code",
   "execution_count": null,
   "metadata": {},
   "outputs": [],
   "source": [
    "W1 = np.array([\n",
    "    [-8.94,  0.29, 12.89],\n",
    "    [-0.17, -7.34, 10.79]] )\n",
    "b1 = np.array([-9.87, -9.28,  1.01])\n",
    "W2 = np.array([\n",
    "    [-31.38],\n",
    "    [-27.86],\n",
    "    [-32.79]])\n",
    "b2 = np.array([15.54])\n",
    "model.get_layer(\"layer1\").set_weights([W1,b1])\n",
    "model.get_layer(\"layer2\").set_weights([W2,b2])"
   ]
  },
  {
   "cell_type": "markdown",
   "metadata": {},
   "source": [
    "### Predictions\n",
    "<img align=\"left\" src=\"./images/C2_W1_RoastingDecision.PNG\"     style=\" width:380px; padding: 10px 20px; \" >\n",
    "\n",
    "Once you have a trained model, you can then use it to make predictions. Recall that the output of our model is a probability. In this case, the probability of a good roast. To make a decision, one must apply the probability to a threshold. In this case, we will use 0.5"
   ]
  },
  {
   "cell_type": "markdown",
   "metadata": {},
   "source": [
    "Let's start by creating input data. The model is expecting one or more examples where examples are in the rows of matrix. In this case, we have two features so the matrix will be (m,2) where m is the number of examples.\n",
    "Recall, we have normalized the input features so we must normalize our test data as well.   \n",
    "To make a prediction, you apply the `predict` method."
   ]
  },
  {
   "cell_type": "code",
   "execution_count": null,
   "metadata": {},
   "outputs": [],
   "source": [
    "X_test = np.array([\n",
    "    [200,13.9],  # postive example\n",
    "    [200,17]])   # negative example\n",
    "X_testn = norm_l(X_test)\n",
    "predictions = model.predict(X_testn)\n",
    "print(\"predictions = \\n\", predictions)"
   ]
  },
  {
   "cell_type": "markdown",
   "metadata": {},
   "source": [
    "To convert the probabilities to a decision, we apply a threshold:"
   ]
  },
  {
   "cell_type": "code",
   "execution_count": null,
   "metadata": {},
   "outputs": [],
   "source": [
    "yhat = np.zeros_like(predictions)\n",
    "for i in range(len(predictions)):\n",
    "    if predictions[i] >= 0.5:\n",
    "        yhat[i] = 1\n",
    "    else:\n",
    "        yhat[i] = 0\n",
    "print(f\"decisions = \\n{yhat}\")"
   ]
  },
  {
   "cell_type": "markdown",
   "metadata": {},
   "source": [
    "This can be accomplished more succinctly:"
   ]
  },
  {
   "cell_type": "code",
   "execution_count": null,
   "metadata": {},
   "outputs": [],
   "source": [
    "yhat = (predictions >= 0.5).astype(int)\n",
    "print(f\"decisions = \\n{yhat}\")"
   ]
  },
  {
   "cell_type": "markdown",
   "metadata": {},
   "source": [
    "## Layer Functions\n",
    "Let's examine the functions of the units to determine their role in the coffee roasting decision. We will plot the output of each node for all values of the inputs (duration,temp). Each unit is a logistic function whose output can range from zero to one. The shading in the graph represents the output value.\n",
    "> Note: In labs we typically number things starting at zero while the lectures may start with 1."
   ]
  },
  {
   "cell_type": "code",
   "execution_count": null,
   "metadata": {},
   "outputs": [],
   "source": [
    "plt_layer(X,Y.reshape(-1,),W1,b1,norm_l)"
   ]
  },
  {
   "cell_type": "markdown",
   "metadata": {},
   "source": [
    "The shading shows that each unit is responsible for a different \"bad roast\" region. unit 0 has larger values when the temperature is too low. unit 1 has larger values when the duration is too short and unit 2 has larger values for bad combinations of time/temp. It is worth noting that the network learned these functions on its own through the process of gradient descent. They are very much the same sort of functions a person might choose to make the same decisions."
   ]
  },
  {
   "cell_type": "markdown",
   "metadata": {},
   "source": [
    "The function plot of the final layer is a bit more difficult to visualize. It's inputs are the output of the first layer. We know that the first layer uses sigmoids so their output range is between zero and one. We can create a 3-D plot that calculates the output for all possible combinations of the three inputs. This is shown below. Above, high output values correspond to 'bad roast' area's. Below, the maximum output is in area's where the three inputs are small values corresponding to 'good roast' area's."
   ]
  },
  {
   "cell_type": "code",
   "execution_count": null,
   "metadata": {},
   "outputs": [],
   "source": [
    "plt_output_unit(W2,b2)"
   ]
  },
  {
   "cell_type": "markdown",
   "metadata": {},
   "source": [
    "The final graph shows the whole network in action.  \n",
    "The left graph is the raw output of the final layer represented by the blue shading. This is overlaid on the training data represented by the X's and O's.   \n",
    "The right graph is the output of the network after a decision threshold. The X's and O's here correspond to decisions made by the network.  \n",
    "The following takes a moment to run"
   ]
  },
  {
   "cell_type": "code",
   "execution_count": null,
   "metadata": {
    "tags": []
   },
   "outputs": [],
   "source": [
    "netf= lambda x : model.predict(norm_l(x))\n",
    "plt_network(X,Y,netf)"
   ]
  },
  {
   "cell_type": "markdown",
   "metadata": {},
   "source": [
    "## Congratulations!\n",
    "You have built a small neural network in Tensorflow. \n",
    "The network demonstrated the ability of neural networks to handle complex decisions by dividing the decisions between multiple units."
   ]
  },
  {
   "cell_type": "code",
   "execution_count": null,
   "metadata": {},
   "outputs": [],
   "source": []
  }
 ],
 "metadata": {
  "kernelspec": {
   "display_name": "Python 3",
   "language": "python",
   "name": "python3"
  },
  "language_info": {
   "codemirror_mode": {
    "name": "ipython",
    "version": 3
   },
   "file_extension": ".py",
   "mimetype": "text/x-python",
   "name": "python",
   "nbconvert_exporter": "python",
   "pygments_lexer": "ipython3",
   "version": "3.7.6"
  }
 },
 "nbformat": 4,
 "nbformat_minor": 4
}

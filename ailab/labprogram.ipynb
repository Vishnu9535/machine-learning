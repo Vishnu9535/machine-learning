{
 "cells": [
  {
   "cell_type": "code",
   "execution_count": 1,
   "metadata": {},
   "outputs": [
    {
     "name": "stdout",
     "output_type": "stream",
     "text": [
      "0 0\n",
      "3 0\n",
      "3 4\n",
      "0 4\n",
      "3 1\n",
      "0 1\n",
      "1 0\n",
      "1 4\n",
      "3 2\n",
      "0 2\n"
     ]
    },
    {
     "data": {
      "text/plain": [
       "True"
      ]
     },
     "execution_count": 1,
     "metadata": {},
     "output_type": "execute_result"
    }
   ],
   "source": [
    "from collections import defaultdict\n",
    "visited=defaultdict(lambda: False)\n",
    "jug1,jug2,aim=3,4,2\n",
    "def wjs(amt1,amt2):\n",
    "    if (amt1==aim and amt2==0) or (amt2==aim and amt1==0):\n",
    "        print(amt1,amt2)\n",
    "        return True\n",
    "    if visited[(amt1,amt2)]==False:\n",
    "        print(amt1,amt2)\n",
    "        visited[(amt1,amt2)]=True\n",
    "        return( wjs(0,amt2) or\n",
    "        wjs(amt1,0) or\n",
    "        wjs(jug1,amt2) or\n",
    "        wjs(amt1,jug2) or\n",
    "        wjs(amt1+min(amt2,(jug1-amt1)),amt2-min(amt2,(jug1-amt1))) or\n",
    "        wjs(amt1-min(amt1,(jug2-amt2)),amt2+min(amt1,(jug2-amt2))))\n",
    "    else:\n",
    "        return False\n",
    "wjs(0,0)"
   ]
  },
  {
   "cell_type": "code",
   "execution_count": 3,
   "metadata": {},
   "outputs": [
    {
     "name": "stdout",
     "output_type": "stream",
     "text": [
      "bubkjsbvd\n"
     ]
    }
   ],
   "source": [
    "#program 8a\n",
    "import string\n",
    "input_sen=input(\"enter the sentence:\")\n",
    "final_sen=''\n",
    "for i in input_sen:\n",
    "    if i not in string.punctuation:\n",
    "        final_sen+=i\n",
    "print(final_sen)"
   ]
  }
 ],
 "metadata": {
  "kernelspec": {
   "display_name": "Python 3",
   "language": "python",
   "name": "python3"
  },
  "language_info": {
   "codemirror_mode": {
    "name": "ipython",
    "version": 3
   },
   "file_extension": ".py",
   "mimetype": "text/x-python",
   "name": "python",
   "nbconvert_exporter": "python",
   "pygments_lexer": "ipython3",
   "version": "3.11.5"
  }
 },
 "nbformat": 4,
 "nbformat_minor": 2
}
